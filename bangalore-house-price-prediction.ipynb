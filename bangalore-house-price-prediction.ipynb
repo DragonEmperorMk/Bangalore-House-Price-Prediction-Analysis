{
 "cells": [
  {
   "cell_type": "code",
   "execution_count": 1,
   "id": "835c4fa7",
   "metadata": {
    "_cell_guid": "b1076dfc-b9ad-4769-8c92-a6c4dae69d19",
    "_uuid": "8f2839f25d086af736a60e9eeb907d3b93b6e0e5",
    "execution": {
     "iopub.execute_input": "2025-07-31T05:30:07.210256Z",
     "iopub.status.busy": "2025-07-31T05:30:07.209253Z",
     "iopub.status.idle": "2025-07-31T05:30:09.444300Z",
     "shell.execute_reply": "2025-07-31T05:30:09.443064Z"
    },
    "papermill": {
     "duration": 2.256809,
     "end_time": "2025-07-31T05:30:09.446076",
     "exception": false,
     "start_time": "2025-07-31T05:30:07.189267",
     "status": "completed"
    },
    "tags": []
   },
   "outputs": [],
   "source": [
    "# This Python 3 environment comes with many helpful analytics libraries installed\n",
    "# It is defined by the kaggle/python Docker image: https://github.com/kaggle/docker-python\n",
    "# For example, here's several helpful packages to load\n",
    "\n",
    "import numpy as np # linear algebra\n",
    "import pandas as pd # data processing, CSV file I/O (e.g. pd.read_csv)\n",
    "\n",
    "# Input data files are available in the read-only \"../input/\" directory\n",
    "# For example, running this (by clicking run or pressing Shift+Enter) will list all files under the input directory\n",
    "\n",
    "import os\n",
    "for dirname, _, filenames in os.walk('/kaggle/input'):\n",
    "    for filename in filenames:\n",
    "        print(os.path.join(dirname, filename))\n",
    "\n",
    "# You can write up to 20GB to the current directory (/kaggle/working/) that gets preserved as output when you create a version using \"Save & Run All\" \n",
    "# You can also write temporary files to /kaggle/temp/, but they won't be saved outside of the current session"
   ]
  },
  {
   "cell_type": "markdown",
   "id": "b1d98dc8",
   "metadata": {
    "papermill": {
     "duration": 0.013616,
     "end_time": "2025-07-31T05:30:09.476012",
     "exception": false,
     "start_time": "2025-07-31T05:30:09.462396",
     "status": "completed"
    },
    "tags": []
   },
   "source": [
    "**IMPORTING LIBRARIES & LOADING DATAFRAME**"
   ]
  },
  {
   "cell_type": "code",
   "execution_count": 2,
   "id": "ca751e34",
   "metadata": {
    "execution": {
     "iopub.execute_input": "2025-07-31T05:30:09.507958Z",
     "iopub.status.busy": "2025-07-31T05:30:09.506583Z",
     "iopub.status.idle": "2025-07-31T05:30:11.798939Z",
     "shell.execute_reply": "2025-07-31T05:30:11.797472Z"
    },
    "papermill": {
     "duration": 2.310335,
     "end_time": "2025-07-31T05:30:11.801003",
     "exception": false,
     "start_time": "2025-07-31T05:30:09.490668",
     "status": "completed"
    },
    "tags": []
   },
   "outputs": [],
   "source": [
    "import pandas as pd\n",
    "import numpy as np\n",
    "import seaborn as sns\n",
    "import matplotlib.pyplot as plt\n",
    "import os\n",
    "import warnings\n",
    "warnings.filterwarnings(\"ignore\")\n",
    "\n",
    "df = pd.read_csv(r\"C:\\Users\\dell\\Downloads\\Bangalore House Price Prediction Model\\BHP.csv\")\n"
   ]
  },
  {
   "cell_type": "code",
   "execution_count": 6,
   "id": "0722db41",
   "metadata": {
    "execution": {
     "iopub.execute_input": "2025-07-31T05:30:11.838792Z",
     "iopub.status.busy": "2025-07-31T05:30:11.838212Z",
     "iopub.status.idle": "2025-07-31T05:30:12.842212Z",
     "shell.execute_reply": "2025-07-31T05:30:12.841098Z"
    },
    "papermill": {
     "duration": 1.025146,
     "end_time": "2025-07-31T05:30:12.843944",
     "exception": false,
     "start_time": "2025-07-31T05:30:11.818798",
     "status": "completed"
    },
    "tags": []
   },
   "outputs": [],
   "source": [
    "import pandas as pd\n",
    "from sklearn.model_selection import train_test_split\n",
    "from sklearn.pipeline import Pipeline\n",
    "from sklearn.linear_model import LinearRegression\n",
    "from sklearn.compose import ColumnTransformer\n",
    "from sklearn.preprocessing import StandardScaler, OneHotEncoder\n",
    "from sklearn.ensemble import RandomForestRegressor\n",
    "from sklearn.metrics import mean_squared_error, mean_absolute_error, r2_score\n",
    "# ...existing code..."
   ]
  },
  {
   "cell_type": "code",
   "execution_count": 7,
   "id": "d3f41a35",
   "metadata": {
    "execution": {
     "iopub.execute_input": "2025-07-31T05:30:12.876265Z",
     "iopub.status.busy": "2025-07-31T05:30:12.875911Z",
     "iopub.status.idle": "2025-07-31T05:30:12.914954Z",
     "shell.execute_reply": "2025-07-31T05:30:12.913362Z"
    },
    "papermill": {
     "duration": 0.058236,
     "end_time": "2025-07-31T05:30:12.917076",
     "exception": false,
     "start_time": "2025-07-31T05:30:12.858840",
     "status": "completed"
    },
    "tags": []
   },
   "outputs": [
    {
     "data": {
      "text/html": [
       "<div>\n",
       "<style scoped>\n",
       "    .dataframe tbody tr th:only-of-type {\n",
       "        vertical-align: middle;\n",
       "    }\n",
       "\n",
       "    .dataframe tbody tr th {\n",
       "        vertical-align: top;\n",
       "    }\n",
       "\n",
       "    .dataframe thead th {\n",
       "        text-align: right;\n",
       "    }\n",
       "</style>\n",
       "<table border=\"1\" class=\"dataframe\">\n",
       "  <thead>\n",
       "    <tr style=\"text-align: right;\">\n",
       "      <th></th>\n",
       "      <th>area_type</th>\n",
       "      <th>availability</th>\n",
       "      <th>location</th>\n",
       "      <th>size</th>\n",
       "      <th>society</th>\n",
       "      <th>total_sqft</th>\n",
       "      <th>bath</th>\n",
       "      <th>balcony</th>\n",
       "      <th>price</th>\n",
       "    </tr>\n",
       "  </thead>\n",
       "  <tbody>\n",
       "    <tr>\n",
       "      <th>0</th>\n",
       "      <td>Super built-up  Area</td>\n",
       "      <td>19-Dec</td>\n",
       "      <td>Electronic City Phase II</td>\n",
       "      <td>2 BHK</td>\n",
       "      <td>Coomee</td>\n",
       "      <td>1056</td>\n",
       "      <td>2.0</td>\n",
       "      <td>1.0</td>\n",
       "      <td>39.07</td>\n",
       "    </tr>\n",
       "    <tr>\n",
       "      <th>1</th>\n",
       "      <td>Plot  Area</td>\n",
       "      <td>Ready To Move</td>\n",
       "      <td>Chikka Tirupathi</td>\n",
       "      <td>4 Bedroom</td>\n",
       "      <td>Theanmp</td>\n",
       "      <td>2600</td>\n",
       "      <td>5.0</td>\n",
       "      <td>3.0</td>\n",
       "      <td>120.00</td>\n",
       "    </tr>\n",
       "    <tr>\n",
       "      <th>2</th>\n",
       "      <td>Built-up  Area</td>\n",
       "      <td>Ready To Move</td>\n",
       "      <td>Uttarahalli</td>\n",
       "      <td>3 BHK</td>\n",
       "      <td>NaN</td>\n",
       "      <td>1440</td>\n",
       "      <td>2.0</td>\n",
       "      <td>3.0</td>\n",
       "      <td>62.00</td>\n",
       "    </tr>\n",
       "    <tr>\n",
       "      <th>3</th>\n",
       "      <td>Super built-up  Area</td>\n",
       "      <td>Ready To Move</td>\n",
       "      <td>Lingadheeranahalli</td>\n",
       "      <td>3 BHK</td>\n",
       "      <td>Soiewre</td>\n",
       "      <td>1521</td>\n",
       "      <td>3.0</td>\n",
       "      <td>1.0</td>\n",
       "      <td>95.00</td>\n",
       "    </tr>\n",
       "    <tr>\n",
       "      <th>4</th>\n",
       "      <td>Super built-up  Area</td>\n",
       "      <td>Ready To Move</td>\n",
       "      <td>Kothanur</td>\n",
       "      <td>2 BHK</td>\n",
       "      <td>NaN</td>\n",
       "      <td>1200</td>\n",
       "      <td>2.0</td>\n",
       "      <td>1.0</td>\n",
       "      <td>51.00</td>\n",
       "    </tr>\n",
       "    <tr>\n",
       "      <th>...</th>\n",
       "      <td>...</td>\n",
       "      <td>...</td>\n",
       "      <td>...</td>\n",
       "      <td>...</td>\n",
       "      <td>...</td>\n",
       "      <td>...</td>\n",
       "      <td>...</td>\n",
       "      <td>...</td>\n",
       "      <td>...</td>\n",
       "    </tr>\n",
       "    <tr>\n",
       "      <th>13315</th>\n",
       "      <td>Built-up  Area</td>\n",
       "      <td>Ready To Move</td>\n",
       "      <td>Whitefield</td>\n",
       "      <td>5 Bedroom</td>\n",
       "      <td>ArsiaEx</td>\n",
       "      <td>3453</td>\n",
       "      <td>4.0</td>\n",
       "      <td>0.0</td>\n",
       "      <td>231.00</td>\n",
       "    </tr>\n",
       "    <tr>\n",
       "      <th>13316</th>\n",
       "      <td>Super built-up  Area</td>\n",
       "      <td>Ready To Move</td>\n",
       "      <td>Richards Town</td>\n",
       "      <td>4 BHK</td>\n",
       "      <td>NaN</td>\n",
       "      <td>3600</td>\n",
       "      <td>5.0</td>\n",
       "      <td>NaN</td>\n",
       "      <td>400.00</td>\n",
       "    </tr>\n",
       "    <tr>\n",
       "      <th>13317</th>\n",
       "      <td>Built-up  Area</td>\n",
       "      <td>Ready To Move</td>\n",
       "      <td>Raja Rajeshwari Nagar</td>\n",
       "      <td>2 BHK</td>\n",
       "      <td>Mahla T</td>\n",
       "      <td>1141</td>\n",
       "      <td>2.0</td>\n",
       "      <td>1.0</td>\n",
       "      <td>60.00</td>\n",
       "    </tr>\n",
       "    <tr>\n",
       "      <th>13318</th>\n",
       "      <td>Super built-up  Area</td>\n",
       "      <td>18-Jun</td>\n",
       "      <td>Padmanabhanagar</td>\n",
       "      <td>4 BHK</td>\n",
       "      <td>SollyCl</td>\n",
       "      <td>4689</td>\n",
       "      <td>4.0</td>\n",
       "      <td>1.0</td>\n",
       "      <td>488.00</td>\n",
       "    </tr>\n",
       "    <tr>\n",
       "      <th>13319</th>\n",
       "      <td>Super built-up  Area</td>\n",
       "      <td>Ready To Move</td>\n",
       "      <td>Doddathoguru</td>\n",
       "      <td>1 BHK</td>\n",
       "      <td>NaN</td>\n",
       "      <td>550</td>\n",
       "      <td>1.0</td>\n",
       "      <td>1.0</td>\n",
       "      <td>17.00</td>\n",
       "    </tr>\n",
       "  </tbody>\n",
       "</table>\n",
       "<p>13320 rows × 9 columns</p>\n",
       "</div>"
      ],
      "text/plain": [
       "                  area_type   availability                  location  \\\n",
       "0      Super built-up  Area         19-Dec  Electronic City Phase II   \n",
       "1                Plot  Area  Ready To Move          Chikka Tirupathi   \n",
       "2            Built-up  Area  Ready To Move               Uttarahalli   \n",
       "3      Super built-up  Area  Ready To Move        Lingadheeranahalli   \n",
       "4      Super built-up  Area  Ready To Move                  Kothanur   \n",
       "...                     ...            ...                       ...   \n",
       "13315        Built-up  Area  Ready To Move                Whitefield   \n",
       "13316  Super built-up  Area  Ready To Move             Richards Town   \n",
       "13317        Built-up  Area  Ready To Move     Raja Rajeshwari Nagar   \n",
       "13318  Super built-up  Area         18-Jun           Padmanabhanagar   \n",
       "13319  Super built-up  Area  Ready To Move              Doddathoguru   \n",
       "\n",
       "            size  society total_sqft  bath  balcony   price  \n",
       "0          2 BHK  Coomee        1056   2.0      1.0   39.07  \n",
       "1      4 Bedroom  Theanmp       2600   5.0      3.0  120.00  \n",
       "2          3 BHK      NaN       1440   2.0      3.0   62.00  \n",
       "3          3 BHK  Soiewre       1521   3.0      1.0   95.00  \n",
       "4          2 BHK      NaN       1200   2.0      1.0   51.00  \n",
       "...          ...      ...        ...   ...      ...     ...  \n",
       "13315  5 Bedroom  ArsiaEx       3453   4.0      0.0  231.00  \n",
       "13316      4 BHK      NaN       3600   5.0      NaN  400.00  \n",
       "13317      2 BHK  Mahla T       1141   2.0      1.0   60.00  \n",
       "13318      4 BHK  SollyCl       4689   4.0      1.0  488.00  \n",
       "13319      1 BHK      NaN        550   1.0      1.0   17.00  \n",
       "\n",
       "[13320 rows x 9 columns]"
      ]
     },
     "execution_count": 7,
     "metadata": {},
     "output_type": "execute_result"
    }
   ],
   "source": [
    "df"
   ]
  },
  {
   "cell_type": "code",
   "execution_count": 5,
   "id": "54aafefc",
   "metadata": {
    "execution": {
     "iopub.execute_input": "2025-07-31T05:30:12.949206Z",
     "iopub.status.busy": "2025-07-31T05:30:12.948873Z",
     "iopub.status.idle": "2025-07-31T05:30:12.962758Z",
     "shell.execute_reply": "2025-07-31T05:30:12.961849Z"
    },
    "papermill": {
     "duration": 0.0315,
     "end_time": "2025-07-31T05:30:12.964450",
     "exception": false,
     "start_time": "2025-07-31T05:30:12.932950",
     "status": "completed"
    },
    "tags": []
   },
   "outputs": [
    {
     "data": {
      "text/html": [
       "<div>\n",
       "<style scoped>\n",
       "    .dataframe tbody tr th:only-of-type {\n",
       "        vertical-align: middle;\n",
       "    }\n",
       "\n",
       "    .dataframe tbody tr th {\n",
       "        vertical-align: top;\n",
       "    }\n",
       "\n",
       "    .dataframe thead th {\n",
       "        text-align: right;\n",
       "    }\n",
       "</style>\n",
       "<table border=\"1\" class=\"dataframe\">\n",
       "  <thead>\n",
       "    <tr style=\"text-align: right;\">\n",
       "      <th></th>\n",
       "      <th>area_type</th>\n",
       "      <th>availability</th>\n",
       "      <th>location</th>\n",
       "      <th>size</th>\n",
       "      <th>society</th>\n",
       "      <th>total_sqft</th>\n",
       "      <th>bath</th>\n",
       "      <th>balcony</th>\n",
       "      <th>price</th>\n",
       "    </tr>\n",
       "  </thead>\n",
       "  <tbody>\n",
       "    <tr>\n",
       "      <th>0</th>\n",
       "      <td>Super built-up  Area</td>\n",
       "      <td>19-Dec</td>\n",
       "      <td>Electronic City Phase II</td>\n",
       "      <td>2 BHK</td>\n",
       "      <td>Coomee</td>\n",
       "      <td>1056</td>\n",
       "      <td>2.0</td>\n",
       "      <td>1.0</td>\n",
       "      <td>39.07</td>\n",
       "    </tr>\n",
       "    <tr>\n",
       "      <th>1</th>\n",
       "      <td>Plot  Area</td>\n",
       "      <td>Ready To Move</td>\n",
       "      <td>Chikka Tirupathi</td>\n",
       "      <td>4 Bedroom</td>\n",
       "      <td>Theanmp</td>\n",
       "      <td>2600</td>\n",
       "      <td>5.0</td>\n",
       "      <td>3.0</td>\n",
       "      <td>120.00</td>\n",
       "    </tr>\n",
       "    <tr>\n",
       "      <th>2</th>\n",
       "      <td>Built-up  Area</td>\n",
       "      <td>Ready To Move</td>\n",
       "      <td>Uttarahalli</td>\n",
       "      <td>3 BHK</td>\n",
       "      <td>NaN</td>\n",
       "      <td>1440</td>\n",
       "      <td>2.0</td>\n",
       "      <td>3.0</td>\n",
       "      <td>62.00</td>\n",
       "    </tr>\n",
       "    <tr>\n",
       "      <th>3</th>\n",
       "      <td>Super built-up  Area</td>\n",
       "      <td>Ready To Move</td>\n",
       "      <td>Lingadheeranahalli</td>\n",
       "      <td>3 BHK</td>\n",
       "      <td>Soiewre</td>\n",
       "      <td>1521</td>\n",
       "      <td>3.0</td>\n",
       "      <td>1.0</td>\n",
       "      <td>95.00</td>\n",
       "    </tr>\n",
       "    <tr>\n",
       "      <th>4</th>\n",
       "      <td>Super built-up  Area</td>\n",
       "      <td>Ready To Move</td>\n",
       "      <td>Kothanur</td>\n",
       "      <td>2 BHK</td>\n",
       "      <td>NaN</td>\n",
       "      <td>1200</td>\n",
       "      <td>2.0</td>\n",
       "      <td>1.0</td>\n",
       "      <td>51.00</td>\n",
       "    </tr>\n",
       "  </tbody>\n",
       "</table>\n",
       "</div>"
      ],
      "text/plain": [
       "              area_type   availability                  location       size  \\\n",
       "0  Super built-up  Area         19-Dec  Electronic City Phase II      2 BHK   \n",
       "1            Plot  Area  Ready To Move          Chikka Tirupathi  4 Bedroom   \n",
       "2        Built-up  Area  Ready To Move               Uttarahalli      3 BHK   \n",
       "3  Super built-up  Area  Ready To Move        Lingadheeranahalli      3 BHK   \n",
       "4  Super built-up  Area  Ready To Move                  Kothanur      2 BHK   \n",
       "\n",
       "   society total_sqft  bath  balcony   price  \n",
       "0  Coomee        1056   2.0      1.0   39.07  \n",
       "1  Theanmp       2600   5.0      3.0  120.00  \n",
       "2      NaN       1440   2.0      3.0   62.00  \n",
       "3  Soiewre       1521   3.0      1.0   95.00  \n",
       "4      NaN       1200   2.0      1.0   51.00  "
      ]
     },
     "execution_count": 5,
     "metadata": {},
     "output_type": "execute_result"
    }
   ],
   "source": [
    "df.head()"
   ]
  },
  {
   "cell_type": "code",
   "execution_count": 6,
   "id": "e72c57b6",
   "metadata": {
    "execution": {
     "iopub.execute_input": "2025-07-31T05:30:12.995773Z",
     "iopub.status.busy": "2025-07-31T05:30:12.995378Z",
     "iopub.status.idle": "2025-07-31T05:30:13.013211Z",
     "shell.execute_reply": "2025-07-31T05:30:13.012072Z"
    },
    "papermill": {
     "duration": 0.035797,
     "end_time": "2025-07-31T05:30:13.015639",
     "exception": false,
     "start_time": "2025-07-31T05:30:12.979842",
     "status": "completed"
    },
    "tags": []
   },
   "outputs": [
    {
     "data": {
      "text/html": [
       "<div>\n",
       "<style scoped>\n",
       "    .dataframe tbody tr th:only-of-type {\n",
       "        vertical-align: middle;\n",
       "    }\n",
       "\n",
       "    .dataframe tbody tr th {\n",
       "        vertical-align: top;\n",
       "    }\n",
       "\n",
       "    .dataframe thead th {\n",
       "        text-align: right;\n",
       "    }\n",
       "</style>\n",
       "<table border=\"1\" class=\"dataframe\">\n",
       "  <thead>\n",
       "    <tr style=\"text-align: right;\">\n",
       "      <th></th>\n",
       "      <th>area_type</th>\n",
       "      <th>availability</th>\n",
       "      <th>location</th>\n",
       "      <th>size</th>\n",
       "      <th>society</th>\n",
       "      <th>total_sqft</th>\n",
       "      <th>bath</th>\n",
       "      <th>balcony</th>\n",
       "      <th>price</th>\n",
       "    </tr>\n",
       "  </thead>\n",
       "  <tbody>\n",
       "    <tr>\n",
       "      <th>13315</th>\n",
       "      <td>Built-up  Area</td>\n",
       "      <td>Ready To Move</td>\n",
       "      <td>Whitefield</td>\n",
       "      <td>5 Bedroom</td>\n",
       "      <td>ArsiaEx</td>\n",
       "      <td>3453</td>\n",
       "      <td>4.0</td>\n",
       "      <td>0.0</td>\n",
       "      <td>231.0</td>\n",
       "    </tr>\n",
       "    <tr>\n",
       "      <th>13316</th>\n",
       "      <td>Super built-up  Area</td>\n",
       "      <td>Ready To Move</td>\n",
       "      <td>Richards Town</td>\n",
       "      <td>4 BHK</td>\n",
       "      <td>NaN</td>\n",
       "      <td>3600</td>\n",
       "      <td>5.0</td>\n",
       "      <td>NaN</td>\n",
       "      <td>400.0</td>\n",
       "    </tr>\n",
       "    <tr>\n",
       "      <th>13317</th>\n",
       "      <td>Built-up  Area</td>\n",
       "      <td>Ready To Move</td>\n",
       "      <td>Raja Rajeshwari Nagar</td>\n",
       "      <td>2 BHK</td>\n",
       "      <td>Mahla T</td>\n",
       "      <td>1141</td>\n",
       "      <td>2.0</td>\n",
       "      <td>1.0</td>\n",
       "      <td>60.0</td>\n",
       "    </tr>\n",
       "    <tr>\n",
       "      <th>13318</th>\n",
       "      <td>Super built-up  Area</td>\n",
       "      <td>18-Jun</td>\n",
       "      <td>Padmanabhanagar</td>\n",
       "      <td>4 BHK</td>\n",
       "      <td>SollyCl</td>\n",
       "      <td>4689</td>\n",
       "      <td>4.0</td>\n",
       "      <td>1.0</td>\n",
       "      <td>488.0</td>\n",
       "    </tr>\n",
       "    <tr>\n",
       "      <th>13319</th>\n",
       "      <td>Super built-up  Area</td>\n",
       "      <td>Ready To Move</td>\n",
       "      <td>Doddathoguru</td>\n",
       "      <td>1 BHK</td>\n",
       "      <td>NaN</td>\n",
       "      <td>550</td>\n",
       "      <td>1.0</td>\n",
       "      <td>1.0</td>\n",
       "      <td>17.0</td>\n",
       "    </tr>\n",
       "  </tbody>\n",
       "</table>\n",
       "</div>"
      ],
      "text/plain": [
       "                  area_type   availability               location       size  \\\n",
       "13315        Built-up  Area  Ready To Move             Whitefield  5 Bedroom   \n",
       "13316  Super built-up  Area  Ready To Move          Richards Town      4 BHK   \n",
       "13317        Built-up  Area  Ready To Move  Raja Rajeshwari Nagar      2 BHK   \n",
       "13318  Super built-up  Area         18-Jun        Padmanabhanagar      4 BHK   \n",
       "13319  Super built-up  Area  Ready To Move           Doddathoguru      1 BHK   \n",
       "\n",
       "       society total_sqft  bath  balcony  price  \n",
       "13315  ArsiaEx       3453   4.0      0.0  231.0  \n",
       "13316      NaN       3600   5.0      NaN  400.0  \n",
       "13317  Mahla T       1141   2.0      1.0   60.0  \n",
       "13318  SollyCl       4689   4.0      1.0  488.0  \n",
       "13319      NaN        550   1.0      1.0   17.0  "
      ]
     },
     "execution_count": 6,
     "metadata": {},
     "output_type": "execute_result"
    }
   ],
   "source": [
    "df.tail()"
   ]
  },
  {
   "cell_type": "code",
   "execution_count": 7,
   "id": "a57b84ee",
   "metadata": {
    "execution": {
     "iopub.execute_input": "2025-07-31T05:30:13.124710Z",
     "iopub.status.busy": "2025-07-31T05:30:13.124345Z",
     "iopub.status.idle": "2025-07-31T05:30:13.155927Z",
     "shell.execute_reply": "2025-07-31T05:30:13.154581Z"
    },
    "papermill": {
     "duration": 0.051357,
     "end_time": "2025-07-31T05:30:13.157830",
     "exception": false,
     "start_time": "2025-07-31T05:30:13.106473",
     "status": "completed"
    },
    "tags": []
   },
   "outputs": [
    {
     "name": "stdout",
     "output_type": "stream",
     "text": [
      "<class 'pandas.core.frame.DataFrame'>\n",
      "RangeIndex: 13320 entries, 0 to 13319\n",
      "Data columns (total 9 columns):\n",
      " #   Column        Non-Null Count  Dtype  \n",
      "---  ------        --------------  -----  \n",
      " 0   area_type     13320 non-null  object \n",
      " 1   availability  13320 non-null  object \n",
      " 2   location      13319 non-null  object \n",
      " 3   size          13304 non-null  object \n",
      " 4   society       7818 non-null   object \n",
      " 5   total_sqft    13320 non-null  object \n",
      " 6   bath          13247 non-null  float64\n",
      " 7   balcony       12711 non-null  float64\n",
      " 8   price         13320 non-null  float64\n",
      "dtypes: float64(3), object(6)\n",
      "memory usage: 936.7+ KB\n"
     ]
    }
   ],
   "source": [
    "df.info()"
   ]
  },
  {
   "cell_type": "code",
   "execution_count": 8,
   "id": "aa0691f7",
   "metadata": {
    "execution": {
     "iopub.execute_input": "2025-07-31T05:30:13.189443Z",
     "iopub.status.busy": "2025-07-31T05:30:13.189089Z",
     "iopub.status.idle": "2025-07-31T05:30:13.211713Z",
     "shell.execute_reply": "2025-07-31T05:30:13.210672Z"
    },
    "papermill": {
     "duration": 0.040473,
     "end_time": "2025-07-31T05:30:13.213560",
     "exception": false,
     "start_time": "2025-07-31T05:30:13.173087",
     "status": "completed"
    },
    "tags": []
   },
   "outputs": [
    {
     "data": {
      "text/html": [
       "<div>\n",
       "<style scoped>\n",
       "    .dataframe tbody tr th:only-of-type {\n",
       "        vertical-align: middle;\n",
       "    }\n",
       "\n",
       "    .dataframe tbody tr th {\n",
       "        vertical-align: top;\n",
       "    }\n",
       "\n",
       "    .dataframe thead th {\n",
       "        text-align: right;\n",
       "    }\n",
       "</style>\n",
       "<table border=\"1\" class=\"dataframe\">\n",
       "  <thead>\n",
       "    <tr style=\"text-align: right;\">\n",
       "      <th></th>\n",
       "      <th>bath</th>\n",
       "      <th>balcony</th>\n",
       "      <th>price</th>\n",
       "    </tr>\n",
       "  </thead>\n",
       "  <tbody>\n",
       "    <tr>\n",
       "      <th>count</th>\n",
       "      <td>13247.000000</td>\n",
       "      <td>12711.000000</td>\n",
       "      <td>13320.000000</td>\n",
       "    </tr>\n",
       "    <tr>\n",
       "      <th>mean</th>\n",
       "      <td>2.692610</td>\n",
       "      <td>1.584376</td>\n",
       "      <td>112.565627</td>\n",
       "    </tr>\n",
       "    <tr>\n",
       "      <th>std</th>\n",
       "      <td>1.341458</td>\n",
       "      <td>0.817263</td>\n",
       "      <td>148.971674</td>\n",
       "    </tr>\n",
       "    <tr>\n",
       "      <th>min</th>\n",
       "      <td>1.000000</td>\n",
       "      <td>0.000000</td>\n",
       "      <td>8.000000</td>\n",
       "    </tr>\n",
       "    <tr>\n",
       "      <th>25%</th>\n",
       "      <td>2.000000</td>\n",
       "      <td>1.000000</td>\n",
       "      <td>50.000000</td>\n",
       "    </tr>\n",
       "    <tr>\n",
       "      <th>50%</th>\n",
       "      <td>2.000000</td>\n",
       "      <td>2.000000</td>\n",
       "      <td>72.000000</td>\n",
       "    </tr>\n",
       "    <tr>\n",
       "      <th>75%</th>\n",
       "      <td>3.000000</td>\n",
       "      <td>2.000000</td>\n",
       "      <td>120.000000</td>\n",
       "    </tr>\n",
       "    <tr>\n",
       "      <th>max</th>\n",
       "      <td>40.000000</td>\n",
       "      <td>3.000000</td>\n",
       "      <td>3600.000000</td>\n",
       "    </tr>\n",
       "  </tbody>\n",
       "</table>\n",
       "</div>"
      ],
      "text/plain": [
       "               bath       balcony         price\n",
       "count  13247.000000  12711.000000  13320.000000\n",
       "mean       2.692610      1.584376    112.565627\n",
       "std        1.341458      0.817263    148.971674\n",
       "min        1.000000      0.000000      8.000000\n",
       "25%        2.000000      1.000000     50.000000\n",
       "50%        2.000000      2.000000     72.000000\n",
       "75%        3.000000      2.000000    120.000000\n",
       "max       40.000000      3.000000   3600.000000"
      ]
     },
     "execution_count": 8,
     "metadata": {},
     "output_type": "execute_result"
    }
   ],
   "source": [
    "df.describe()"
   ]
  },
  {
   "cell_type": "code",
   "execution_count": 9,
   "id": "f196dceb",
   "metadata": {
    "execution": {
     "iopub.execute_input": "2025-07-31T05:30:13.246704Z",
     "iopub.status.busy": "2025-07-31T05:30:13.246272Z",
     "iopub.status.idle": "2025-07-31T05:30:13.251797Z",
     "shell.execute_reply": "2025-07-31T05:30:13.250643Z"
    },
    "papermill": {
     "duration": 0.023594,
     "end_time": "2025-07-31T05:30:13.253342",
     "exception": false,
     "start_time": "2025-07-31T05:30:13.229748",
     "status": "completed"
    },
    "tags": []
   },
   "outputs": [
    {
     "name": "stdout",
     "output_type": "stream",
     "text": [
      "Dataset contains 13320 rows and 9 columns\n"
     ]
    }
   ],
   "source": [
    "print(f\"Dataset contains {df.shape[0]} rows and {df.shape[1]} columns\")"
   ]
  },
  {
   "cell_type": "markdown",
   "id": "4183636d",
   "metadata": {
    "papermill": {
     "duration": 0.015251,
     "end_time": "2025-07-31T05:30:13.283900",
     "exception": false,
     "start_time": "2025-07-31T05:30:13.268649",
     "status": "completed"
    },
    "tags": []
   },
   "source": [
    "**VALUE COUNTS & MISSING VALUES**"
   ]
  },
  {
   "cell_type": "code",
   "execution_count": 10,
   "id": "9cc9088b",
   "metadata": {
    "execution": {
     "iopub.execute_input": "2025-07-31T05:30:13.317322Z",
     "iopub.status.busy": "2025-07-31T05:30:13.316987Z",
     "iopub.status.idle": "2025-07-31T05:30:13.346765Z",
     "shell.execute_reply": "2025-07-31T05:30:13.345758Z"
    },
    "papermill": {
     "duration": 0.049797,
     "end_time": "2025-07-31T05:30:13.349118",
     "exception": false,
     "start_time": "2025-07-31T05:30:13.299321",
     "status": "completed"
    },
    "tags": []
   },
   "outputs": [
    {
     "name": "stdout",
     "output_type": "stream",
     "text": [
      "area_type\n",
      "Super built-up  Area    8790\n",
      "Built-up  Area          2418\n",
      "Plot  Area              2025\n",
      "Carpet  Area              87\n",
      "Name: count, dtype: int64\n",
      "----------------------------------------\n",
      "availability\n",
      "Ready To Move    10581\n",
      "18-Dec             307\n",
      "18-May             295\n",
      "18-Apr             271\n",
      "18-Aug             200\n",
      "                 ...  \n",
      "15-Aug               1\n",
      "17-Jan               1\n",
      "16-Nov               1\n",
      "16-Jan               1\n",
      "14-Jul               1\n",
      "Name: count, Length: 81, dtype: int64\n",
      "----------------------------------------\n",
      "location\n",
      "Whitefield                        540\n",
      "Sarjapur  Road                    399\n",
      "Electronic City                   302\n",
      "Kanakpura Road                    273\n",
      "Thanisandra                       234\n",
      "                                 ... \n",
      "Bapuji Layout                       1\n",
      "1st Stage Radha Krishna Layout      1\n",
      "BEML Layout 5th stage               1\n",
      "singapura paradise                  1\n",
      "Abshot Layout                       1\n",
      "Name: count, Length: 1305, dtype: int64\n",
      "----------------------------------------\n",
      "size\n",
      "2 BHK         5199\n",
      "3 BHK         4310\n",
      "4 Bedroom      826\n",
      "4 BHK          591\n",
      "3 Bedroom      547\n",
      "1 BHK          538\n",
      "2 Bedroom      329\n",
      "5 Bedroom      297\n",
      "6 Bedroom      191\n",
      "1 Bedroom      105\n",
      "8 Bedroom       84\n",
      "7 Bedroom       83\n",
      "5 BHK           59\n",
      "9 Bedroom       46\n",
      "6 BHK           30\n",
      "7 BHK           17\n",
      "1 RK            13\n",
      "10 Bedroom      12\n",
      "9 BHK            8\n",
      "8 BHK            5\n",
      "11 BHK           2\n",
      "11 Bedroom       2\n",
      "10 BHK           2\n",
      "14 BHK           1\n",
      "13 BHK           1\n",
      "12 Bedroom       1\n",
      "27 BHK           1\n",
      "43 Bedroom       1\n",
      "16 BHK           1\n",
      "19 BHK           1\n",
      "18 Bedroom       1\n",
      "Name: count, dtype: int64\n",
      "----------------------------------------\n",
      "society\n",
      "GrrvaGr    80\n",
      "PrarePa    76\n",
      "Sryalan    59\n",
      "Prtates    59\n",
      "GMown E    56\n",
      "           ..\n",
      "Amionce     1\n",
      "JaghtDe     1\n",
      "Jauraht     1\n",
      "Brity U     1\n",
      "RSntsAp     1\n",
      "Name: count, Length: 2688, dtype: int64\n",
      "----------------------------------------\n",
      "total_sqft\n",
      "1200    843\n",
      "1100    221\n",
      "1500    205\n",
      "2400    196\n",
      "600     180\n",
      "       ... \n",
      "3580      1\n",
      "2461      1\n",
      "1437      1\n",
      "2155      1\n",
      "4689      1\n",
      "Name: count, Length: 2117, dtype: int64\n",
      "----------------------------------------\n",
      "bath\n",
      "2.0     6908\n",
      "3.0     3286\n",
      "4.0     1226\n",
      "1.0      788\n",
      "5.0      524\n",
      "6.0      273\n",
      "7.0      102\n",
      "8.0       64\n",
      "9.0       43\n",
      "10.0      13\n",
      "12.0       7\n",
      "13.0       3\n",
      "11.0       3\n",
      "16.0       2\n",
      "27.0       1\n",
      "40.0       1\n",
      "15.0       1\n",
      "14.0       1\n",
      "18.0       1\n",
      "Name: count, dtype: int64\n",
      "----------------------------------------\n",
      "balcony\n",
      "2.0    5113\n",
      "1.0    4897\n",
      "3.0    1672\n",
      "0.0    1029\n",
      "Name: count, dtype: int64\n",
      "----------------------------------------\n",
      "price\n",
      "75.00     310\n",
      "65.00     302\n",
      "55.00     275\n",
      "60.00     270\n",
      "45.00     240\n",
      "         ... \n",
      "351.00      1\n",
      "54.10       1\n",
      "80.64       1\n",
      "32.73       1\n",
      "488.00      1\n",
      "Name: count, Length: 1994, dtype: int64\n",
      "----------------------------------------\n"
     ]
    }
   ],
   "source": [
    "for columns in df.columns:\n",
    "    print(df[columns].value_counts())\n",
    "    print(\"-\"*40)"
   ]
  },
  {
   "cell_type": "code",
   "execution_count": 11,
   "id": "9b2576b7",
   "metadata": {
    "execution": {
     "iopub.execute_input": "2025-07-31T05:30:13.383217Z",
     "iopub.status.busy": "2025-07-31T05:30:13.382895Z",
     "iopub.status.idle": "2025-07-31T05:30:13.396732Z",
     "shell.execute_reply": "2025-07-31T05:30:13.395452Z"
    },
    "papermill": {
     "duration": 0.033769,
     "end_time": "2025-07-31T05:30:13.398802",
     "exception": false,
     "start_time": "2025-07-31T05:30:13.365033",
     "status": "completed"
    },
    "tags": []
   },
   "outputs": [
    {
     "data": {
      "text/plain": [
       "area_type          0\n",
       "availability       0\n",
       "location           1\n",
       "size              16\n",
       "society         5502\n",
       "total_sqft         0\n",
       "bath              73\n",
       "balcony          609\n",
       "price              0\n",
       "dtype: int64"
      ]
     },
     "execution_count": 11,
     "metadata": {},
     "output_type": "execute_result"
    }
   ],
   "source": [
    "df.isna().sum()"
   ]
  },
  {
   "cell_type": "code",
   "execution_count": 12,
   "id": "7bfbb21f",
   "metadata": {
    "execution": {
     "iopub.execute_input": "2025-07-31T05:30:13.435172Z",
     "iopub.status.busy": "2025-07-31T05:30:13.434843Z",
     "iopub.status.idle": "2025-07-31T05:30:13.447381Z",
     "shell.execute_reply": "2025-07-31T05:30:13.446266Z"
    },
    "papermill": {
     "duration": 0.032646,
     "end_time": "2025-07-31T05:30:13.449051",
     "exception": false,
     "start_time": "2025-07-31T05:30:13.416405",
     "status": "completed"
    },
    "tags": []
   },
   "outputs": [
    {
     "name": "stdout",
     "output_type": "stream",
     "text": [
      "area_type        0.000000\n",
      "availability     0.000000\n",
      "location         0.007508\n",
      "size             0.120120\n",
      "society         41.306306\n",
      "total_sqft       0.000000\n",
      "bath             0.548048\n",
      "balcony          4.572072\n",
      "price            0.000000\n",
      "dtype: float64\n"
     ]
    }
   ],
   "source": [
    "missing_pct = (df.isnull().sum() / len(df)) * 100\n",
    "print(missing_pct)"
   ]
  },
  {
   "cell_type": "code",
   "execution_count": 13,
   "id": "80bfba73",
   "metadata": {
    "execution": {
     "iopub.execute_input": "2025-07-31T05:30:13.482927Z",
     "iopub.status.busy": "2025-07-31T05:30:13.482084Z",
     "iopub.status.idle": "2025-07-31T05:30:13.493493Z",
     "shell.execute_reply": "2025-07-31T05:30:13.491985Z"
    },
    "papermill": {
     "duration": 0.030762,
     "end_time": "2025-07-31T05:30:13.495358",
     "exception": false,
     "start_time": "2025-07-31T05:30:13.464596",
     "status": "completed"
    },
    "tags": []
   },
   "outputs": [
    {
     "data": {
      "text/plain": [
       "count    13320.000000\n",
       "mean       112.565627\n",
       "std        148.971674\n",
       "min          8.000000\n",
       "25%         50.000000\n",
       "50%         72.000000\n",
       "75%        120.000000\n",
       "max       3600.000000\n",
       "Name: price, dtype: float64"
      ]
     },
     "execution_count": 13,
     "metadata": {},
     "output_type": "execute_result"
    }
   ],
   "source": [
    "df['price'].describe()"
   ]
  },
  {
   "cell_type": "code",
   "execution_count": 14,
   "id": "7da6738b",
   "metadata": {
    "execution": {
     "iopub.execute_input": "2025-07-31T05:30:13.528990Z",
     "iopub.status.busy": "2025-07-31T05:30:13.528638Z",
     "iopub.status.idle": "2025-07-31T05:30:13.534913Z",
     "shell.execute_reply": "2025-07-31T05:30:13.533901Z"
    },
    "papermill": {
     "duration": 0.02512,
     "end_time": "2025-07-31T05:30:13.536684",
     "exception": false,
     "start_time": "2025-07-31T05:30:13.511564",
     "status": "completed"
    },
    "tags": []
   },
   "outputs": [],
   "source": [
    "df_copy = df.copy()"
   ]
  },
  {
   "cell_type": "markdown",
   "id": "5ef8fc8d",
   "metadata": {
    "papermill": {
     "duration": 0.015263,
     "end_time": "2025-07-31T05:30:13.567543",
     "exception": false,
     "start_time": "2025-07-31T05:30:13.552280",
     "status": "completed"
    },
    "tags": []
   },
   "source": [
    "**EDA: CORRELATION MATRIX**"
   ]
  },
  {
   "cell_type": "code",
   "execution_count": 8,
   "id": "5675de6f",
   "metadata": {
    "execution": {
     "iopub.execute_input": "2025-07-31T05:30:13.601083Z",
     "iopub.status.busy": "2025-07-31T05:30:13.600728Z",
     "iopub.status.idle": "2025-07-31T05:30:13.942976Z",
     "shell.execute_reply": "2025-07-31T05:30:13.941262Z"
    },
    "papermill": {
     "duration": 0.360965,
     "end_time": "2025-07-31T05:30:13.944759",
     "exception": false,
     "start_time": "2025-07-31T05:30:13.583794",
     "status": "completed"
    },
    "tags": []
   },
   "outputs": [
    {
     "data": {
      "image/png": "[encoded data removed]",
      "text/plain": [
       "<Figure size 800x600 with 2 Axes>"
      ]
     },
     "metadata": {},
     "output_type": "display_data"
    }
   ],
   "source": [
    "plt.figure(figsize=(8, 6))\n",
    "corr = df.select_dtypes(include=[np.number]).corr()\n",
    "sns.heatmap(corr, annot=True, fmt=\".2f\", cmap=\"coolwarm\")\n",
    "plt.title(\"Correlation Matrix\")\n",
    "plt.show()"
   ]
  },
  {
   "cell_type": "code",
   "execution_count": 16,
   "id": "2d3d3262",
   "metadata": {
    "execution": {
     "iopub.execute_input": "2025-07-31T05:30:13.980443Z",
     "iopub.status.busy": "2025-07-31T05:30:13.980101Z",
     "iopub.status.idle": "2025-07-31T05:30:13.986439Z",
     "shell.execute_reply": "2025-07-31T05:30:13.985310Z"
    },
    "papermill": {
     "duration": 0.025603,
     "end_time": "2025-07-31T05:30:13.988340",
     "exception": false,
     "start_time": "2025-07-31T05:30:13.962737",
     "status": "completed"
    },
    "tags": []
   },
   "outputs": [
    {
     "data": {
      "text/plain": [
       "['area_type',\n",
       " 'availability',\n",
       " 'location',\n",
       " 'size',\n",
       " 'society',\n",
       " 'total_sqft',\n",
       " 'bath',\n",
       " 'balcony',\n",
       " 'price']"
      ]
     },
     "execution_count": 16,
     "metadata": {},
     "output_type": "execute_result"
    }
   ],
   "source": [
    "df.columns.tolist()"
   ]
  },
  {
   "cell_type": "markdown",
   "id": "dfcc415d",
   "metadata": {
    "papermill": {
     "duration": 0.016244,
     "end_time": "2025-07-31T05:30:14.023556",
     "exception": false,
     "start_time": "2025-07-31T05:30:14.007312",
     "status": "completed"
    },
    "tags": []
   },
   "source": [
    "**DATA CLEANING,DROP UNUSED FEATURES & IMPUTATION**"
   ]
  },
  {
   "cell_type": "code",
   "execution_count": 17,
   "id": "f8fbdefc",
   "metadata": {
    "execution": {
     "iopub.execute_input": "2025-07-31T05:30:14.062310Z",
     "iopub.status.busy": "2025-07-31T05:30:14.061971Z",
     "iopub.status.idle": "2025-07-31T05:30:14.068729Z",
     "shell.execute_reply": "2025-07-31T05:30:14.067677Z"
    },
    "papermill": {
     "duration": 0.027815,
     "end_time": "2025-07-31T05:30:14.070694",
     "exception": false,
     "start_time": "2025-07-31T05:30:14.042879",
     "status": "completed"
    },
    "tags": []
   },
   "outputs": [],
   "source": [
    "df =  df.drop([\"society\"], axis=1)"
   ]
  },
  {
   "cell_type": "code",
   "execution_count": 18,
   "id": "c0b0468f",
   "metadata": {
    "execution": {
     "iopub.execute_input": "2025-07-31T05:30:14.105282Z",
     "iopub.status.busy": "2025-07-31T05:30:14.104470Z",
     "iopub.status.idle": "2025-07-31T05:30:14.110998Z",
     "shell.execute_reply": "2025-07-31T05:30:14.110054Z"
    },
    "papermill": {
     "duration": 0.02565,
     "end_time": "2025-07-31T05:30:14.112896",
     "exception": false,
     "start_time": "2025-07-31T05:30:14.087246",
     "status": "completed"
    },
    "tags": []
   },
   "outputs": [],
   "source": [
    "df[\"balcony\"].fillna(df[\"balcony\"].mean().round().astype(int) , inplace=True)"
   ]
  },
  {
   "cell_type": "code",
   "execution_count": 19,
   "id": "21e6602f",
   "metadata": {
    "execution": {
     "iopub.execute_input": "2025-07-31T05:30:14.149550Z",
     "iopub.status.busy": "2025-07-31T05:30:14.149188Z",
     "iopub.status.idle": "2025-07-31T05:30:14.160998Z",
     "shell.execute_reply": "2025-07-31T05:30:14.160118Z"
    },
    "papermill": {
     "duration": 0.031468,
     "end_time": "2025-07-31T05:30:14.162652",
     "exception": false,
     "start_time": "2025-07-31T05:30:14.131184",
     "status": "completed"
    },
    "tags": []
   },
   "outputs": [],
   "source": [
    "df[\"balcony\"] = df[\"balcony\"].round().astype(int)"
   ]
  },
  {
   "cell_type": "code",
   "execution_count": 20,
   "id": "a705e4d2",
   "metadata": {
    "execution": {
     "iopub.execute_input": "2025-07-31T05:30:14.198118Z",
     "iopub.status.busy": "2025-07-31T05:30:14.197773Z",
     "iopub.status.idle": "2025-07-31T05:30:14.208798Z",
     "shell.execute_reply": "2025-07-31T05:30:14.207607Z"
    },
    "papermill": {
     "duration": 0.030709,
     "end_time": "2025-07-31T05:30:14.210490",
     "exception": false,
     "start_time": "2025-07-31T05:30:14.179781",
     "status": "completed"
    },
    "tags": []
   },
   "outputs": [
    {
     "data": {
      "text/plain": [
       "balcony\n",
       "2    5722\n",
       "1    4897\n",
       "3    1672\n",
       "0    1029\n",
       "Name: count, dtype: int64"
      ]
     },
     "execution_count": 20,
     "metadata": {},
     "output_type": "execute_result"
    }
   ],
   "source": [
    "df['balcony'].value_counts()"
   ]
  },
  {
   "cell_type": "code",
   "execution_count": 21,
   "id": "97698206",
   "metadata": {
    "execution": {
     "iopub.execute_input": "2025-07-31T05:30:14.244877Z",
     "iopub.status.busy": "2025-07-31T05:30:14.244585Z",
     "iopub.status.idle": "2025-07-31T05:30:14.255925Z",
     "shell.execute_reply": "2025-07-31T05:30:14.254940Z"
    },
    "papermill": {
     "duration": 0.030875,
     "end_time": "2025-07-31T05:30:14.257812",
     "exception": false,
     "start_time": "2025-07-31T05:30:14.226937",
     "status": "completed"
    },
    "tags": []
   },
   "outputs": [
    {
     "data": {
      "text/plain": [
       "area_type        0\n",
       "availability     0\n",
       "location         1\n",
       "size            16\n",
       "total_sqft       0\n",
       "bath            73\n",
       "balcony          0\n",
       "price            0\n",
       "dtype: int64"
      ]
     },
     "execution_count": 21,
     "metadata": {},
     "output_type": "execute_result"
    }
   ],
   "source": [
    "df.isnull().sum()"
   ]
  },
  {
   "cell_type": "code",
   "execution_count": 22,
   "id": "a2ade17e",
   "metadata": {
    "execution": {
     "iopub.execute_input": "2025-07-31T05:30:14.292415Z",
     "iopub.status.busy": "2025-07-31T05:30:14.292103Z",
     "iopub.status.idle": "2025-07-31T05:30:14.299582Z",
     "shell.execute_reply": "2025-07-31T05:30:14.298597Z"
    },
    "papermill": {
     "duration": 0.026879,
     "end_time": "2025-07-31T05:30:14.301235",
     "exception": false,
     "start_time": "2025-07-31T05:30:14.274356",
     "status": "completed"
    },
    "tags": []
   },
   "outputs": [],
   "source": [
    "location_counts = df['location'].value_counts()"
   ]
  },
  {
   "cell_type": "markdown",
   "id": "8353805c",
   "metadata": {
    "papermill": {
     "duration": 0.016044,
     "end_time": "2025-07-31T05:30:14.333757",
     "exception": false,
     "start_time": "2025-07-31T05:30:14.317713",
     "status": "completed"
    },
    "tags": []
   },
   "source": []
  },
  {
   "cell_type": "code",
   "execution_count": 23,
   "id": "c7f9157a",
   "metadata": {
    "execution": {
     "iopub.execute_input": "2025-07-31T05:30:14.368987Z",
     "iopub.status.busy": "2025-07-31T05:30:14.368668Z",
     "iopub.status.idle": "2025-07-31T05:30:14.396380Z",
     "shell.execute_reply": "2025-07-31T05:30:14.395266Z"
    },
    "papermill": {
     "duration": 0.047064,
     "end_time": "2025-07-31T05:30:14.398442",
     "exception": false,
     "start_time": "2025-07-31T05:30:14.351378",
     "status": "completed"
    },
    "tags": []
   },
   "outputs": [],
   "source": [
    "rare_locations = location_counts[location_counts < 10].index\n",
    "df['location'] = df['location'].apply(lambda x: 'other' if x in rare_locations else x)"
   ]
  },
  {
   "cell_type": "code",
   "execution_count": 24,
   "id": "d771b4ec",
   "metadata": {
    "execution": {
     "iopub.execute_input": "2025-07-31T05:30:14.435824Z",
     "iopub.status.busy": "2025-07-31T05:30:14.435491Z",
     "iopub.status.idle": "2025-07-31T05:30:14.444272Z",
     "shell.execute_reply": "2025-07-31T05:30:14.443540Z"
    },
    "papermill": {
     "duration": 0.029537,
     "end_time": "2025-07-31T05:30:14.445696",
     "exception": false,
     "start_time": "2025-07-31T05:30:14.416159",
     "status": "completed"
    },
    "tags": []
   },
   "outputs": [
    {
     "data": {
      "text/plain": [
       "location\n",
       "other               2780\n",
       "Whitefield           540\n",
       "Sarjapur  Road       399\n",
       "Electronic City      302\n",
       "Kanakpura Road       273\n",
       "                    ... \n",
       "Basapura              10\n",
       "Dodsworth Layout      10\n",
       "Kalkere               10\n",
       "Ganga Nagar           10\n",
       "Nagadevanahalli       10\n",
       "Name: count, Length: 254, dtype: int64"
      ]
     },
     "execution_count": 24,
     "metadata": {},
     "output_type": "execute_result"
    }
   ],
   "source": [
    "df['location'].value_counts()"
   ]
  },
  {
   "cell_type": "code",
   "execution_count": 25,
   "id": "367cd946",
   "metadata": {
    "execution": {
     "iopub.execute_input": "2025-07-31T05:30:14.479671Z",
     "iopub.status.busy": "2025-07-31T05:30:14.479315Z",
     "iopub.status.idle": "2025-07-31T05:30:14.486639Z",
     "shell.execute_reply": "2025-07-31T05:30:14.485729Z"
    },
    "papermill": {
     "duration": 0.026425,
     "end_time": "2025-07-31T05:30:14.488457",
     "exception": false,
     "start_time": "2025-07-31T05:30:14.462032",
     "status": "completed"
    },
    "tags": []
   },
   "outputs": [],
   "source": [
    "df['location']= df['location'].fillna('Whitefield')"
   ]
  },
  {
   "cell_type": "code",
   "execution_count": 26,
   "id": "bc11bffc",
   "metadata": {
    "execution": {
     "iopub.execute_input": "2025-07-31T05:30:14.523252Z",
     "iopub.status.busy": "2025-07-31T05:30:14.522930Z",
     "iopub.status.idle": "2025-07-31T05:30:14.530309Z",
     "shell.execute_reply": "2025-07-31T05:30:14.529311Z"
    },
    "papermill": {
     "duration": 0.026711,
     "end_time": "2025-07-31T05:30:14.531829",
     "exception": false,
     "start_time": "2025-07-31T05:30:14.505118",
     "status": "completed"
    },
    "tags": []
   },
   "outputs": [],
   "source": [
    "df[\"size\"] = df['size'].fillna(\"2BHK\")"
   ]
  },
  {
   "cell_type": "code",
   "execution_count": 27,
   "id": "e3f97b0e",
   "metadata": {
    "execution": {
     "iopub.execute_input": "2025-07-31T05:30:14.567299Z",
     "iopub.status.busy": "2025-07-31T05:30:14.566965Z",
     "iopub.status.idle": "2025-07-31T05:30:14.578821Z",
     "shell.execute_reply": "2025-07-31T05:30:14.577706Z"
    },
    "papermill": {
     "duration": 0.031311,
     "end_time": "2025-07-31T05:30:14.580271",
     "exception": false,
     "start_time": "2025-07-31T05:30:14.548960",
     "status": "completed"
    },
    "tags": []
   },
   "outputs": [
    {
     "data": {
      "text/plain": [
       "area_type        0\n",
       "availability     0\n",
       "location         0\n",
       "size             0\n",
       "total_sqft       0\n",
       "bath            73\n",
       "balcony          0\n",
       "price            0\n",
       "dtype: int64"
      ]
     },
     "execution_count": 27,
     "metadata": {},
     "output_type": "execute_result"
    }
   ],
   "source": [
    "df.isnull().sum()"
   ]
  },
  {
   "cell_type": "code",
   "execution_count": 28,
   "id": "2f9c76ce",
   "metadata": {
    "execution": {
     "iopub.execute_input": "2025-07-31T05:30:14.615766Z",
     "iopub.status.busy": "2025-07-31T05:30:14.614999Z",
     "iopub.status.idle": "2025-07-31T05:30:14.622447Z",
     "shell.execute_reply": "2025-07-31T05:30:14.621348Z"
    },
    "papermill": {
     "duration": 0.027148,
     "end_time": "2025-07-31T05:30:14.624129",
     "exception": false,
     "start_time": "2025-07-31T05:30:14.596981",
     "status": "completed"
    },
    "tags": []
   },
   "outputs": [],
   "source": [
    "df['bath'] = df['bath'].fillna(df['bath'].dropna().median())"
   ]
  },
  {
   "cell_type": "code",
   "execution_count": 29,
   "id": "8e98ef2e",
   "metadata": {
    "execution": {
     "iopub.execute_input": "2025-07-31T05:30:14.658974Z",
     "iopub.status.busy": "2025-07-31T05:30:14.658653Z",
     "iopub.status.idle": "2025-07-31T05:30:14.665746Z",
     "shell.execute_reply": "2025-07-31T05:30:14.664842Z"
    },
    "papermill": {
     "duration": 0.026671,
     "end_time": "2025-07-31T05:30:14.667419",
     "exception": false,
     "start_time": "2025-07-31T05:30:14.640748",
     "status": "completed"
    },
    "tags": []
   },
   "outputs": [
    {
     "data": {
      "text/plain": [
       "13320"
      ]
     },
     "execution_count": 29,
     "metadata": {},
     "output_type": "execute_result"
    }
   ],
   "source": [
    "df[\"bath\"].value_counts().sum()"
   ]
  },
  {
   "cell_type": "code",
   "execution_count": 30,
   "id": "77d4eecc",
   "metadata": {
    "execution": {
     "iopub.execute_input": "2025-07-31T05:30:14.702729Z",
     "iopub.status.busy": "2025-07-31T05:30:14.702340Z",
     "iopub.status.idle": "2025-07-31T05:30:14.709985Z",
     "shell.execute_reply": "2025-07-31T05:30:14.708878Z"
    },
    "papermill": {
     "duration": 0.027629,
     "end_time": "2025-07-31T05:30:14.711735",
     "exception": false,
     "start_time": "2025-07-31T05:30:14.684106",
     "status": "completed"
    },
    "tags": []
   },
   "outputs": [
    {
     "data": {
      "text/plain": [
       "2.0"
      ]
     },
     "execution_count": 30,
     "metadata": {},
     "output_type": "execute_result"
    }
   ],
   "source": [
    "df['bath'].dropna().median()"
   ]
  },
  {
   "cell_type": "code",
   "execution_count": 31,
   "id": "83b27dfc",
   "metadata": {
    "execution": {
     "iopub.execute_input": "2025-07-31T05:30:14.748611Z",
     "iopub.status.busy": "2025-07-31T05:30:14.748223Z",
     "iopub.status.idle": "2025-07-31T05:30:14.761476Z",
     "shell.execute_reply": "2025-07-31T05:30:14.760583Z"
    },
    "papermill": {
     "duration": 0.034641,
     "end_time": "2025-07-31T05:30:14.763260",
     "exception": false,
     "start_time": "2025-07-31T05:30:14.728619",
     "status": "completed"
    },
    "tags": []
   },
   "outputs": [
    {
     "data": {
      "text/plain": [
       "area_type       0\n",
       "availability    0\n",
       "location        0\n",
       "size            0\n",
       "total_sqft      0\n",
       "bath            0\n",
       "balcony         0\n",
       "price           0\n",
       "dtype: int64"
      ]
     },
     "execution_count": 31,
     "metadata": {},
     "output_type": "execute_result"
    }
   ],
   "source": [
    "df.isnull().sum()"
   ]
  },
  {
   "cell_type": "markdown",
   "id": "9e161153",
   "metadata": {
    "papermill": {
     "duration": 0.016449,
     "end_time": "2025-07-31T05:30:14.797315",
     "exception": false,
     "start_time": "2025-07-31T05:30:14.780866",
     "status": "completed"
    },
    "tags": []
   },
   "source": [
    "**FEATURE ENGINEERING**"
   ]
  },
  {
   "cell_type": "code",
   "execution_count": 32,
   "id": "bab14542",
   "metadata": {
    "execution": {
     "iopub.execute_input": "2025-07-31T05:30:14.832968Z",
     "iopub.status.busy": "2025-07-31T05:30:14.832435Z",
     "iopub.status.idle": "2025-07-31T05:30:14.863281Z",
     "shell.execute_reply": "2025-07-31T05:30:14.861750Z"
    },
    "papermill": {
     "duration": 0.050897,
     "end_time": "2025-07-31T05:30:14.865300",
     "exception": false,
     "start_time": "2025-07-31T05:30:14.814403",
     "status": "completed"
    },
    "tags": []
   },
   "outputs": [],
   "source": [
    "df['bhk']= df['size'].str.extract('(\\d+)').astype(float).astype('Int64')"
   ]
  },
  {
   "cell_type": "code",
   "execution_count": 33,
   "id": "21ff4e21",
   "metadata": {
    "execution": {
     "iopub.execute_input": "2025-07-31T05:30:14.901318Z",
     "iopub.status.busy": "2025-07-31T05:30:14.900968Z",
     "iopub.status.idle": "2025-07-31T05:30:14.909344Z",
     "shell.execute_reply": "2025-07-31T05:30:14.908364Z"
    },
    "papermill": {
     "duration": 0.028979,
     "end_time": "2025-07-31T05:30:14.911040",
     "exception": false,
     "start_time": "2025-07-31T05:30:14.882061",
     "status": "completed"
    },
    "tags": []
   },
   "outputs": [
    {
     "data": {
      "text/plain": [
       "0        2\n",
       "1        4\n",
       "2        3\n",
       "3        3\n",
       "4        2\n",
       "        ..\n",
       "13315    5\n",
       "13316    4\n",
       "13317    2\n",
       "13318    4\n",
       "13319    1\n",
       "Name: bhk, Length: 13320, dtype: Int64"
      ]
     },
     "execution_count": 33,
     "metadata": {},
     "output_type": "execute_result"
    }
   ],
   "source": [
    "df['bhk']"
   ]
  },
  {
   "cell_type": "code",
   "execution_count": 34,
   "id": "ec4fe7c2",
   "metadata": {
    "execution": {
     "iopub.execute_input": "2025-07-31T05:30:14.947469Z",
     "iopub.status.busy": "2025-07-31T05:30:14.947137Z",
     "iopub.status.idle": "2025-07-31T05:30:14.955344Z",
     "shell.execute_reply": "2025-07-31T05:30:14.954238Z"
    },
    "papermill": {
     "duration": 0.028951,
     "end_time": "2025-07-31T05:30:14.957015",
     "exception": false,
     "start_time": "2025-07-31T05:30:14.928064",
     "status": "completed"
    },
    "tags": []
   },
   "outputs": [
    {
     "name": "stdout",
     "output_type": "stream",
     "text": [
      "<IntegerArray>\n",
      "[2, 4, 3, 6, 1, 8, 7, 5, 11, 9, 27, 10, 19, 16, 43, 14, 12, 13, 18]\n",
      "Length: 19, dtype: Int64\n"
     ]
    }
   ],
   "source": [
    "print(df['bhk'].unique())\n"
   ]
  },
  {
   "cell_type": "code",
   "execution_count": 35,
   "id": "5c02c717",
   "metadata": {
    "execution": {
     "iopub.execute_input": "2025-07-31T05:30:14.994331Z",
     "iopub.status.busy": "2025-07-31T05:30:14.993966Z",
     "iopub.status.idle": "2025-07-31T05:30:14.999992Z",
     "shell.execute_reply": "2025-07-31T05:30:14.998958Z"
    },
    "papermill": {
     "duration": 0.026065,
     "end_time": "2025-07-31T05:30:15.001551",
     "exception": false,
     "start_time": "2025-07-31T05:30:14.975486",
     "status": "completed"
    },
    "tags": []
   },
   "outputs": [
    {
     "name": "stdout",
     "output_type": "stream",
     "text": [
      "['2 BHK' '4 Bedroom' '3 BHK' '4 BHK' '6 Bedroom' '3 Bedroom' '1 BHK'\n",
      " '1 RK' '1 Bedroom' '8 Bedroom' '2 Bedroom' '7 Bedroom' '5 BHK' '7 BHK'\n",
      " '6 BHK' '5 Bedroom' '11 BHK' '9 BHK' '2BHK' '9 Bedroom' '27 BHK'\n",
      " '10 Bedroom' '11 Bedroom' '10 BHK' '19 BHK' '16 BHK' '43 Bedroom'\n",
      " '14 BHK' '8 BHK' '12 Bedroom' '13 BHK' '18 Bedroom']\n"
     ]
    }
   ],
   "source": [
    "print(df['size'].unique())\n"
   ]
  },
  {
   "cell_type": "code",
   "execution_count": 36,
   "id": "285b8ef6",
   "metadata": {
    "execution": {
     "iopub.execute_input": "2025-07-31T05:30:15.042637Z",
     "iopub.status.busy": "2025-07-31T05:30:15.042276Z",
     "iopub.status.idle": "2025-07-31T05:30:15.051117Z",
     "shell.execute_reply": "2025-07-31T05:30:15.049951Z"
    },
    "papermill": {
     "duration": 0.032858,
     "end_time": "2025-07-31T05:30:15.053237",
     "exception": false,
     "start_time": "2025-07-31T05:30:15.020379",
     "status": "completed"
    },
    "tags": []
   },
   "outputs": [
    {
     "data": {
      "text/plain": [
       "array(['1056', '2600', '1440', ..., '1133 - 1384', '774', '4689'],\n",
       "      dtype=object)"
      ]
     },
     "execution_count": 36,
     "metadata": {},
     "output_type": "execute_result"
    }
   ],
   "source": [
    "df['total_sqft'].unique()"
   ]
  },
  {
   "cell_type": "code",
   "execution_count": 37,
   "id": "74f5344d",
   "metadata": {
    "execution": {
     "iopub.execute_input": "2025-07-31T05:30:15.092165Z",
     "iopub.status.busy": "2025-07-31T05:30:15.091844Z",
     "iopub.status.idle": "2025-07-31T05:30:15.097595Z",
     "shell.execute_reply": "2025-07-31T05:30:15.096646Z"
    },
    "papermill": {
     "duration": 0.026531,
     "end_time": "2025-07-31T05:30:15.099259",
     "exception": false,
     "start_time": "2025-07-31T05:30:15.072728",
     "status": "completed"
    },
    "tags": []
   },
   "outputs": [],
   "source": [
    "def ConvertRange(x):\n",
    "    try:\n",
    "        # If it's a range like '2100 - 2850'\n",
    "        if '-' in str(x):\n",
    "            temp = x.split('-')\n",
    "            if len(temp) == 2:\n",
    "                return (float(temp[0]) + float(temp[1])) / 2\n",
    "        # Try to convert directly if it's a number\n",
    "        return float(x)\n",
    "    except:\n",
    "        return None           "
   ]
  },
  {
   "cell_type": "code",
   "execution_count": 38,
   "id": "ec745b37",
   "metadata": {
    "execution": {
     "iopub.execute_input": "2025-07-31T05:30:15.139050Z",
     "iopub.status.busy": "2025-07-31T05:30:15.138686Z",
     "iopub.status.idle": "2025-07-31T05:30:15.152105Z",
     "shell.execute_reply": "2025-07-31T05:30:15.150599Z"
    },
    "papermill": {
     "duration": 0.037565,
     "end_time": "2025-07-31T05:30:15.154367",
     "exception": false,
     "start_time": "2025-07-31T05:30:15.116802",
     "status": "completed"
    },
    "tags": []
   },
   "outputs": [],
   "source": [
    "df['total_sqft']= df['total_sqft'].apply(ConvertRange)"
   ]
  },
  {
   "cell_type": "code",
   "execution_count": 39,
   "id": "c4934657",
   "metadata": {
    "execution": {
     "iopub.execute_input": "2025-07-31T05:30:15.192218Z",
     "iopub.status.busy": "2025-07-31T05:30:15.191872Z",
     "iopub.status.idle": "2025-07-31T05:30:15.203830Z",
     "shell.execute_reply": "2025-07-31T05:30:15.202773Z"
    },
    "papermill": {
     "duration": 0.032322,
     "end_time": "2025-07-31T05:30:15.205340",
     "exception": false,
     "start_time": "2025-07-31T05:30:15.173018",
     "status": "completed"
    },
    "tags": []
   },
   "outputs": [
    {
     "data": {
      "text/html": [
       "<div>\n",
       "<style scoped>\n",
       "    .dataframe tbody tr th:only-of-type {\n",
       "        vertical-align: middle;\n",
       "    }\n",
       "\n",
       "    .dataframe tbody tr th {\n",
       "        vertical-align: top;\n",
       "    }\n",
       "\n",
       "    .dataframe thead th {\n",
       "        text-align: right;\n",
       "    }\n",
       "</style>\n",
       "<table border=\"1\" class=\"dataframe\">\n",
       "  <thead>\n",
       "    <tr style=\"text-align: right;\">\n",
       "      <th></th>\n",
       "      <th>size</th>\n",
       "      <th>total_sqft</th>\n",
       "    </tr>\n",
       "  </thead>\n",
       "  <tbody>\n",
       "    <tr>\n",
       "      <th>0</th>\n",
       "      <td>2 BHK</td>\n",
       "      <td>1056.0</td>\n",
       "    </tr>\n",
       "    <tr>\n",
       "      <th>1</th>\n",
       "      <td>4 Bedroom</td>\n",
       "      <td>2600.0</td>\n",
       "    </tr>\n",
       "    <tr>\n",
       "      <th>2</th>\n",
       "      <td>3 BHK</td>\n",
       "      <td>1440.0</td>\n",
       "    </tr>\n",
       "    <tr>\n",
       "      <th>3</th>\n",
       "      <td>3 BHK</td>\n",
       "      <td>1521.0</td>\n",
       "    </tr>\n",
       "    <tr>\n",
       "      <th>4</th>\n",
       "      <td>2 BHK</td>\n",
       "      <td>1200.0</td>\n",
       "    </tr>\n",
       "    <tr>\n",
       "      <th>5</th>\n",
       "      <td>2 BHK</td>\n",
       "      <td>1170.0</td>\n",
       "    </tr>\n",
       "    <tr>\n",
       "      <th>6</th>\n",
       "      <td>4 BHK</td>\n",
       "      <td>2732.0</td>\n",
       "    </tr>\n",
       "    <tr>\n",
       "      <th>7</th>\n",
       "      <td>4 BHK</td>\n",
       "      <td>3300.0</td>\n",
       "    </tr>\n",
       "    <tr>\n",
       "      <th>8</th>\n",
       "      <td>3 BHK</td>\n",
       "      <td>1310.0</td>\n",
       "    </tr>\n",
       "    <tr>\n",
       "      <th>9</th>\n",
       "      <td>6 Bedroom</td>\n",
       "      <td>1020.0</td>\n",
       "    </tr>\n",
       "  </tbody>\n",
       "</table>\n",
       "</div>"
      ],
      "text/plain": [
       "        size  total_sqft\n",
       "0      2 BHK      1056.0\n",
       "1  4 Bedroom      2600.0\n",
       "2      3 BHK      1440.0\n",
       "3      3 BHK      1521.0\n",
       "4      2 BHK      1200.0\n",
       "5      2 BHK      1170.0\n",
       "6      4 BHK      2732.0\n",
       "7      4 BHK      3300.0\n",
       "8      3 BHK      1310.0\n",
       "9  6 Bedroom      1020.0"
      ]
     },
     "execution_count": 39,
     "metadata": {},
     "output_type": "execute_result"
    }
   ],
   "source": [
    "df[['size', 'total_sqft']].head(10)"
   ]
  },
  {
   "cell_type": "code",
   "execution_count": 40,
   "id": "40398177",
   "metadata": {
    "execution": {
     "iopub.execute_input": "2025-07-31T05:30:15.241904Z",
     "iopub.status.busy": "2025-07-31T05:30:15.241407Z",
     "iopub.status.idle": "2025-07-31T05:30:15.256753Z",
     "shell.execute_reply": "2025-07-31T05:30:15.255626Z"
    },
    "papermill": {
     "duration": 0.035652,
     "end_time": "2025-07-31T05:30:15.258429",
     "exception": false,
     "start_time": "2025-07-31T05:30:15.222777",
     "status": "completed"
    },
    "tags": []
   },
   "outputs": [
    {
     "name": "stdout",
     "output_type": "stream",
     "text": [
      "<class 'pandas.core.frame.DataFrame'>\n",
      "RangeIndex: 13320 entries, 0 to 13319\n",
      "Data columns (total 9 columns):\n",
      " #   Column        Non-Null Count  Dtype  \n",
      "---  ------        --------------  -----  \n",
      " 0   area_type     13320 non-null  object \n",
      " 1   availability  13320 non-null  object \n",
      " 2   location      13320 non-null  object \n",
      " 3   size          13320 non-null  object \n",
      " 4   total_sqft    13274 non-null  float64\n",
      " 5   bath          13320 non-null  float64\n",
      " 6   balcony       13320 non-null  int64  \n",
      " 7   price         13320 non-null  float64\n",
      " 8   bhk           13320 non-null  Int64  \n",
      "dtypes: Int64(1), float64(3), int64(1), object(4)\n",
      "memory usage: 949.7+ KB\n"
     ]
    }
   ],
   "source": [
    "df.info()"
   ]
  },
  {
   "cell_type": "code",
   "execution_count": 41,
   "id": "687b493d",
   "metadata": {
    "execution": {
     "iopub.execute_input": "2025-07-31T05:30:15.297200Z",
     "iopub.status.busy": "2025-07-31T05:30:15.296864Z",
     "iopub.status.idle": "2025-07-31T05:30:15.304511Z",
     "shell.execute_reply": "2025-07-31T05:30:15.303510Z"
    },
    "papermill": {
     "duration": 0.030133,
     "end_time": "2025-07-31T05:30:15.306245",
     "exception": false,
     "start_time": "2025-07-31T05:30:15.276112",
     "status": "completed"
    },
    "tags": []
   },
   "outputs": [
    {
     "data": {
      "text/plain": [
       "<bound method Series.max of 0         39.07\n",
       "1        120.00\n",
       "2         62.00\n",
       "3         95.00\n",
       "4         51.00\n",
       "          ...  \n",
       "13315    231.00\n",
       "13316    400.00\n",
       "13317     60.00\n",
       "13318    488.00\n",
       "13319     17.00\n",
       "Name: price, Length: 13320, dtype: float64>"
      ]
     },
     "execution_count": 41,
     "metadata": {},
     "output_type": "execute_result"
    }
   ],
   "source": [
    "df['price'].max"
   ]
  },
  {
   "cell_type": "code",
   "execution_count": 42,
   "id": "08874599",
   "metadata": {
    "execution": {
     "iopub.execute_input": "2025-07-31T05:30:15.345002Z",
     "iopub.status.busy": "2025-07-31T05:30:15.344684Z",
     "iopub.status.idle": "2025-07-31T05:30:15.359701Z",
     "shell.execute_reply": "2025-07-31T05:30:15.358625Z"
    },
    "papermill": {
     "duration": 0.035907,
     "end_time": "2025-07-31T05:30:15.361501",
     "exception": false,
     "start_time": "2025-07-31T05:30:15.325594",
     "status": "completed"
    },
    "tags": []
   },
   "outputs": [
    {
     "data": {
      "text/html": [
       "<div>\n",
       "<style scoped>\n",
       "    .dataframe tbody tr th:only-of-type {\n",
       "        vertical-align: middle;\n",
       "    }\n",
       "\n",
       "    .dataframe tbody tr th {\n",
       "        vertical-align: top;\n",
       "    }\n",
       "\n",
       "    .dataframe thead th {\n",
       "        text-align: right;\n",
       "    }\n",
       "</style>\n",
       "<table border=\"1\" class=\"dataframe\">\n",
       "  <thead>\n",
       "    <tr style=\"text-align: right;\">\n",
       "      <th></th>\n",
       "      <th>area_type</th>\n",
       "      <th>availability</th>\n",
       "      <th>location</th>\n",
       "      <th>size</th>\n",
       "      <th>total_sqft</th>\n",
       "      <th>bath</th>\n",
       "      <th>balcony</th>\n",
       "      <th>price</th>\n",
       "      <th>bhk</th>\n",
       "    </tr>\n",
       "  </thead>\n",
       "  <tbody>\n",
       "    <tr>\n",
       "      <th>0</th>\n",
       "      <td>Super built-up  Area</td>\n",
       "      <td>19-Dec</td>\n",
       "      <td>Electronic City Phase II</td>\n",
       "      <td>2 BHK</td>\n",
       "      <td>1056.0</td>\n",
       "      <td>2.0</td>\n",
       "      <td>1</td>\n",
       "      <td>39.07</td>\n",
       "      <td>2</td>\n",
       "    </tr>\n",
       "    <tr>\n",
       "      <th>1</th>\n",
       "      <td>Plot  Area</td>\n",
       "      <td>Ready To Move</td>\n",
       "      <td>Chikka Tirupathi</td>\n",
       "      <td>4 Bedroom</td>\n",
       "      <td>2600.0</td>\n",
       "      <td>5.0</td>\n",
       "      <td>3</td>\n",
       "      <td>120.00</td>\n",
       "      <td>4</td>\n",
       "    </tr>\n",
       "    <tr>\n",
       "      <th>2</th>\n",
       "      <td>Built-up  Area</td>\n",
       "      <td>Ready To Move</td>\n",
       "      <td>Uttarahalli</td>\n",
       "      <td>3 BHK</td>\n",
       "      <td>1440.0</td>\n",
       "      <td>2.0</td>\n",
       "      <td>3</td>\n",
       "      <td>62.00</td>\n",
       "      <td>3</td>\n",
       "    </tr>\n",
       "    <tr>\n",
       "      <th>3</th>\n",
       "      <td>Super built-up  Area</td>\n",
       "      <td>Ready To Move</td>\n",
       "      <td>Lingadheeranahalli</td>\n",
       "      <td>3 BHK</td>\n",
       "      <td>1521.0</td>\n",
       "      <td>3.0</td>\n",
       "      <td>1</td>\n",
       "      <td>95.00</td>\n",
       "      <td>3</td>\n",
       "    </tr>\n",
       "    <tr>\n",
       "      <th>4</th>\n",
       "      <td>Super built-up  Area</td>\n",
       "      <td>Ready To Move</td>\n",
       "      <td>Kothanur</td>\n",
       "      <td>2 BHK</td>\n",
       "      <td>1200.0</td>\n",
       "      <td>2.0</td>\n",
       "      <td>1</td>\n",
       "      <td>51.00</td>\n",
       "      <td>2</td>\n",
       "    </tr>\n",
       "  </tbody>\n",
       "</table>\n",
       "</div>"
      ],
      "text/plain": [
       "              area_type   availability                  location       size  \\\n",
       "0  Super built-up  Area         19-Dec  Electronic City Phase II      2 BHK   \n",
       "1            Plot  Area  Ready To Move          Chikka Tirupathi  4 Bedroom   \n",
       "2        Built-up  Area  Ready To Move               Uttarahalli      3 BHK   \n",
       "3  Super built-up  Area  Ready To Move        Lingadheeranahalli      3 BHK   \n",
       "4  Super built-up  Area  Ready To Move                  Kothanur      2 BHK   \n",
       "\n",
       "   total_sqft  bath  balcony   price  bhk  \n",
       "0      1056.0   2.0        1   39.07    2  \n",
       "1      2600.0   5.0        3  120.00    4  \n",
       "2      1440.0   2.0        3   62.00    3  \n",
       "3      1521.0   3.0        1   95.00    3  \n",
       "4      1200.0   2.0        1   51.00    2  "
      ]
     },
     "execution_count": 42,
     "metadata": {},
     "output_type": "execute_result"
    }
   ],
   "source": [
    "df.head()"
   ]
  },
  {
   "cell_type": "code",
   "execution_count": 43,
   "id": "0f363a48",
   "metadata": {
    "execution": {
     "iopub.execute_input": "2025-07-31T05:30:15.399174Z",
     "iopub.status.busy": "2025-07-31T05:30:15.398872Z",
     "iopub.status.idle": "2025-07-31T05:30:15.412812Z",
     "shell.execute_reply": "2025-07-31T05:30:15.411504Z"
    },
    "papermill": {
     "duration": 0.034834,
     "end_time": "2025-07-31T05:30:15.414691",
     "exception": false,
     "start_time": "2025-07-31T05:30:15.379857",
     "status": "completed"
    },
    "tags": []
   },
   "outputs": [
    {
     "name": "stdout",
     "output_type": "stream",
     "text": [
      "<class 'pandas.core.frame.DataFrame'>\n",
      "RangeIndex: 13320 entries, 0 to 13319\n",
      "Data columns (total 9 columns):\n",
      " #   Column        Non-Null Count  Dtype  \n",
      "---  ------        --------------  -----  \n",
      " 0   area_type     13320 non-null  object \n",
      " 1   availability  13320 non-null  object \n",
      " 2   location      13320 non-null  object \n",
      " 3   size          13320 non-null  object \n",
      " 4   total_sqft    13274 non-null  float64\n",
      " 5   bath          13320 non-null  float64\n",
      " 6   balcony       13320 non-null  int64  \n",
      " 7   price         13320 non-null  float64\n",
      " 8   bhk           13320 non-null  Int64  \n",
      "dtypes: Int64(1), float64(3), int64(1), object(4)\n",
      "memory usage: 949.7+ KB\n"
     ]
    }
   ],
   "source": [
    "df.info()"
   ]
  },
  {
   "cell_type": "code",
   "execution_count": 44,
   "id": "679db52c",
   "metadata": {
    "execution": {
     "iopub.execute_input": "2025-07-31T05:30:15.452283Z",
     "iopub.status.busy": "2025-07-31T05:30:15.451949Z",
     "iopub.status.idle": "2025-07-31T05:30:15.464935Z",
     "shell.execute_reply": "2025-07-31T05:30:15.463960Z"
    },
    "papermill": {
     "duration": 0.034249,
     "end_time": "2025-07-31T05:30:15.466717",
     "exception": false,
     "start_time": "2025-07-31T05:30:15.432468",
     "status": "completed"
    },
    "tags": []
   },
   "outputs": [],
   "source": [
    "df[\"price_per_sqft\"]= df['price']*100000 / df['total_sqft']"
   ]
  },
  {
   "cell_type": "code",
   "execution_count": 45,
   "id": "35244c54",
   "metadata": {
    "execution": {
     "iopub.execute_input": "2025-07-31T05:30:15.505167Z",
     "iopub.status.busy": "2025-07-31T05:30:15.504063Z",
     "iopub.status.idle": "2025-07-31T05:30:15.512989Z",
     "shell.execute_reply": "2025-07-31T05:30:15.511874Z"
    },
    "papermill": {
     "duration": 0.030229,
     "end_time": "2025-07-31T05:30:15.514668",
     "exception": false,
     "start_time": "2025-07-31T05:30:15.484439",
     "status": "completed"
    },
    "tags": []
   },
   "outputs": [
    {
     "data": {
      "text/plain": [
       "0         3699.810606\n",
       "1         4615.384615\n",
       "2         4305.555556\n",
       "3         6245.890861\n",
       "4         4250.000000\n",
       "             ...     \n",
       "13315     6689.834926\n",
       "13316    11111.111111\n",
       "13317     5258.545136\n",
       "13318    10407.336319\n",
       "13319     3090.909091\n",
       "Name: price_per_sqft, Length: 13320, dtype: float64"
      ]
     },
     "execution_count": 45,
     "metadata": {},
     "output_type": "execute_result"
    }
   ],
   "source": [
    "df[\"price_per_sqft\"]"
   ]
  },
  {
   "cell_type": "code",
   "execution_count": 46,
   "id": "6a25a48e",
   "metadata": {
    "execution": {
     "iopub.execute_input": "2025-07-31T05:30:15.553097Z",
     "iopub.status.busy": "2025-07-31T05:30:15.552819Z",
     "iopub.status.idle": "2025-07-31T05:30:15.561672Z",
     "shell.execute_reply": "2025-07-31T05:30:15.560384Z"
    },
    "papermill": {
     "duration": 0.030862,
     "end_time": "2025-07-31T05:30:15.563244",
     "exception": false,
     "start_time": "2025-07-31T05:30:15.532382",
     "status": "completed"
    },
    "tags": []
   },
   "outputs": [
    {
     "name": "stdout",
     "output_type": "stream",
     "text": [
      "          balcony     price\n",
      "balcony  1.000000  0.124951\n",
      "price    0.124951  1.000000\n"
     ]
    }
   ],
   "source": [
    "print(df[['balcony', 'price']].corr())"
   ]
  },
  {
   "cell_type": "code",
   "execution_count": 47,
   "id": "65ad089c",
   "metadata": {
    "execution": {
     "iopub.execute_input": "2025-07-31T05:30:15.601322Z",
     "iopub.status.busy": "2025-07-31T05:30:15.601004Z",
     "iopub.status.idle": "2025-07-31T05:30:15.630573Z",
     "shell.execute_reply": "2025-07-31T05:30:15.629573Z"
    },
    "papermill": {
     "duration": 0.050289,
     "end_time": "2025-07-31T05:30:15.632289",
     "exception": false,
     "start_time": "2025-07-31T05:30:15.582000",
     "status": "completed"
    },
    "tags": []
   },
   "outputs": [
    {
     "data": {
      "text/html": [
       "<div>\n",
       "<style scoped>\n",
       "    .dataframe tbody tr th:only-of-type {\n",
       "        vertical-align: middle;\n",
       "    }\n",
       "\n",
       "    .dataframe tbody tr th {\n",
       "        vertical-align: top;\n",
       "    }\n",
       "\n",
       "    .dataframe thead th {\n",
       "        text-align: right;\n",
       "    }\n",
       "</style>\n",
       "<table border=\"1\" class=\"dataframe\">\n",
       "  <thead>\n",
       "    <tr style=\"text-align: right;\">\n",
       "      <th></th>\n",
       "      <th>total_sqft</th>\n",
       "      <th>bath</th>\n",
       "      <th>balcony</th>\n",
       "      <th>price</th>\n",
       "      <th>bhk</th>\n",
       "      <th>price_per_sqft</th>\n",
       "    </tr>\n",
       "  </thead>\n",
       "  <tbody>\n",
       "    <tr>\n",
       "      <th>count</th>\n",
       "      <td>13274.000000</td>\n",
       "      <td>13320.000000</td>\n",
       "      <td>13320.000000</td>\n",
       "      <td>13320.000000</td>\n",
       "      <td>13320.0</td>\n",
       "      <td>1.327400e+04</td>\n",
       "    </tr>\n",
       "    <tr>\n",
       "      <th>mean</th>\n",
       "      <td>1559.626694</td>\n",
       "      <td>2.688814</td>\n",
       "      <td>1.603378</td>\n",
       "      <td>112.565627</td>\n",
       "      <td>2.802778</td>\n",
       "      <td>7.907501e+03</td>\n",
       "    </tr>\n",
       "    <tr>\n",
       "      <th>std</th>\n",
       "      <td>1238.405258</td>\n",
       "      <td>1.338754</td>\n",
       "      <td>0.803067</td>\n",
       "      <td>148.971674</td>\n",
       "      <td>1.294496</td>\n",
       "      <td>1.064296e+05</td>\n",
       "    </tr>\n",
       "    <tr>\n",
       "      <th>min</th>\n",
       "      <td>1.000000</td>\n",
       "      <td>1.000000</td>\n",
       "      <td>0.000000</td>\n",
       "      <td>8.000000</td>\n",
       "      <td>1.0</td>\n",
       "      <td>2.678298e+02</td>\n",
       "    </tr>\n",
       "    <tr>\n",
       "      <th>25%</th>\n",
       "      <td>1100.000000</td>\n",
       "      <td>2.000000</td>\n",
       "      <td>1.000000</td>\n",
       "      <td>50.000000</td>\n",
       "      <td>2.0</td>\n",
       "      <td>4.266865e+03</td>\n",
       "    </tr>\n",
       "    <tr>\n",
       "      <th>50%</th>\n",
       "      <td>1276.000000</td>\n",
       "      <td>2.000000</td>\n",
       "      <td>2.000000</td>\n",
       "      <td>72.000000</td>\n",
       "      <td>3.0</td>\n",
       "      <td>5.434306e+03</td>\n",
       "    </tr>\n",
       "    <tr>\n",
       "      <th>75%</th>\n",
       "      <td>1680.000000</td>\n",
       "      <td>3.000000</td>\n",
       "      <td>2.000000</td>\n",
       "      <td>120.000000</td>\n",
       "      <td>3.0</td>\n",
       "      <td>7.311746e+03</td>\n",
       "    </tr>\n",
       "    <tr>\n",
       "      <th>max</th>\n",
       "      <td>52272.000000</td>\n",
       "      <td>40.000000</td>\n",
       "      <td>3.000000</td>\n",
       "      <td>3600.000000</td>\n",
       "      <td>43.0</td>\n",
       "      <td>1.200000e+07</td>\n",
       "    </tr>\n",
       "  </tbody>\n",
       "</table>\n",
       "</div>"
      ],
      "text/plain": [
       "         total_sqft          bath       balcony         price       bhk  \\\n",
       "count  13274.000000  13320.000000  13320.000000  13320.000000   13320.0   \n",
       "mean    1559.626694      2.688814      1.603378    112.565627  2.802778   \n",
       "std     1238.405258      1.338754      0.803067    148.971674  1.294496   \n",
       "min        1.000000      1.000000      0.000000      8.000000       1.0   \n",
       "25%     1100.000000      2.000000      1.000000     50.000000       2.0   \n",
       "50%     1276.000000      2.000000      2.000000     72.000000       3.0   \n",
       "75%     1680.000000      3.000000      2.000000    120.000000       3.0   \n",
       "max    52272.000000     40.000000      3.000000   3600.000000      43.0   \n",
       "\n",
       "       price_per_sqft  \n",
       "count    1.327400e+04  \n",
       "mean     7.907501e+03  \n",
       "std      1.064296e+05  \n",
       "min      2.678298e+02  \n",
       "25%      4.266865e+03  \n",
       "50%      5.434306e+03  \n",
       "75%      7.311746e+03  \n",
       "max      1.200000e+07  "
      ]
     },
     "execution_count": 47,
     "metadata": {},
     "output_type": "execute_result"
    }
   ],
   "source": [
    "df.describe()"
   ]
  },
  {
   "cell_type": "code",
   "execution_count": 48,
   "id": "24835257",
   "metadata": {
    "execution": {
     "iopub.execute_input": "2025-07-31T05:30:15.671131Z",
     "iopub.status.busy": "2025-07-31T05:30:15.670804Z",
     "iopub.status.idle": "2025-07-31T05:30:15.682127Z",
     "shell.execute_reply": "2025-07-31T05:30:15.681224Z"
    },
    "papermill": {
     "duration": 0.032879,
     "end_time": "2025-07-31T05:30:15.683830",
     "exception": false,
     "start_time": "2025-07-31T05:30:15.650951",
     "status": "completed"
    },
    "tags": []
   },
   "outputs": [
    {
     "data": {
      "text/plain": [
       "count       13274.0\n",
       "mean     575.074878\n",
       "std      388.205175\n",
       "min            0.25\n",
       "25%      473.333333\n",
       "50%           552.5\n",
       "75%           625.0\n",
       "max         26136.0\n",
       "dtype: Float64"
      ]
     },
     "execution_count": 48,
     "metadata": {},
     "output_type": "execute_result"
    }
   ],
   "source": [
    "(df['total_sqft']/ df['bhk']).describe()"
   ]
  },
  {
   "cell_type": "code",
   "execution_count": 49,
   "id": "cbea5755",
   "metadata": {
    "execution": {
     "iopub.execute_input": "2025-07-31T05:30:15.721388Z",
     "iopub.status.busy": "2025-07-31T05:30:15.721085Z",
     "iopub.status.idle": "2025-07-31T05:30:15.752748Z",
     "shell.execute_reply": "2025-07-31T05:30:15.751781Z"
    },
    "papermill": {
     "duration": 0.052881,
     "end_time": "2025-07-31T05:30:15.754696",
     "exception": false,
     "start_time": "2025-07-31T05:30:15.701815",
     "status": "completed"
    },
    "tags": []
   },
   "outputs": [
    {
     "data": {
      "text/html": [
       "<div>\n",
       "<style scoped>\n",
       "    .dataframe tbody tr th:only-of-type {\n",
       "        vertical-align: middle;\n",
       "    }\n",
       "\n",
       "    .dataframe tbody tr th {\n",
       "        vertical-align: top;\n",
       "    }\n",
       "\n",
       "    .dataframe thead th {\n",
       "        text-align: right;\n",
       "    }\n",
       "</style>\n",
       "<table border=\"1\" class=\"dataframe\">\n",
       "  <thead>\n",
       "    <tr style=\"text-align: right;\">\n",
       "      <th></th>\n",
       "      <th>total_sqft</th>\n",
       "      <th>bath</th>\n",
       "      <th>balcony</th>\n",
       "      <th>price</th>\n",
       "      <th>bhk</th>\n",
       "      <th>price_per_sqft</th>\n",
       "    </tr>\n",
       "  </thead>\n",
       "  <tbody>\n",
       "    <tr>\n",
       "      <th>count</th>\n",
       "      <td>12530.000000</td>\n",
       "      <td>12530.000000</td>\n",
       "      <td>12530.000000</td>\n",
       "      <td>12530.000000</td>\n",
       "      <td>12530.0</td>\n",
       "      <td>12530.000000</td>\n",
       "    </tr>\n",
       "    <tr>\n",
       "      <th>mean</th>\n",
       "      <td>1594.564544</td>\n",
       "      <td>2.559537</td>\n",
       "      <td>1.604629</td>\n",
       "      <td>111.382401</td>\n",
       "      <td>2.650838</td>\n",
       "      <td>6303.979357</td>\n",
       "    </tr>\n",
       "    <tr>\n",
       "      <th>std</th>\n",
       "      <td>1261.271296</td>\n",
       "      <td>1.077938</td>\n",
       "      <td>0.796238</td>\n",
       "      <td>152.077329</td>\n",
       "      <td>0.976678</td>\n",
       "      <td>4162.237981</td>\n",
       "    </tr>\n",
       "    <tr>\n",
       "      <th>min</th>\n",
       "      <td>300.000000</td>\n",
       "      <td>1.000000</td>\n",
       "      <td>0.000000</td>\n",
       "      <td>8.440000</td>\n",
       "      <td>1.0</td>\n",
       "      <td>267.829813</td>\n",
       "    </tr>\n",
       "    <tr>\n",
       "      <th>25%</th>\n",
       "      <td>1116.000000</td>\n",
       "      <td>2.000000</td>\n",
       "      <td>1.000000</td>\n",
       "      <td>49.000000</td>\n",
       "      <td>2.0</td>\n",
       "      <td>4210.526316</td>\n",
       "    </tr>\n",
       "    <tr>\n",
       "      <th>50%</th>\n",
       "      <td>1300.000000</td>\n",
       "      <td>2.000000</td>\n",
       "      <td>2.000000</td>\n",
       "      <td>70.000000</td>\n",
       "      <td>3.0</td>\n",
       "      <td>5294.117647</td>\n",
       "    </tr>\n",
       "    <tr>\n",
       "      <th>75%</th>\n",
       "      <td>1700.000000</td>\n",
       "      <td>3.000000</td>\n",
       "      <td>2.000000</td>\n",
       "      <td>115.000000</td>\n",
       "      <td>3.0</td>\n",
       "      <td>6916.666667</td>\n",
       "    </tr>\n",
       "    <tr>\n",
       "      <th>max</th>\n",
       "      <td>52272.000000</td>\n",
       "      <td>16.000000</td>\n",
       "      <td>3.000000</td>\n",
       "      <td>3600.000000</td>\n",
       "      <td>16.0</td>\n",
       "      <td>176470.588235</td>\n",
       "    </tr>\n",
       "  </tbody>\n",
       "</table>\n",
       "</div>"
      ],
      "text/plain": [
       "         total_sqft          bath       balcony         price       bhk  \\\n",
       "count  12530.000000  12530.000000  12530.000000  12530.000000   12530.0   \n",
       "mean    1594.564544      2.559537      1.604629    111.382401  2.650838   \n",
       "std     1261.271296      1.077938      0.796238    152.077329  0.976678   \n",
       "min      300.000000      1.000000      0.000000      8.440000       1.0   \n",
       "25%     1116.000000      2.000000      1.000000     49.000000       2.0   \n",
       "50%     1300.000000      2.000000      2.000000     70.000000       3.0   \n",
       "75%     1700.000000      3.000000      2.000000    115.000000       3.0   \n",
       "max    52272.000000     16.000000      3.000000   3600.000000      16.0   \n",
       "\n",
       "       price_per_sqft  \n",
       "count    12530.000000  \n",
       "mean      6303.979357  \n",
       "std       4162.237981  \n",
       "min        267.829813  \n",
       "25%       4210.526316  \n",
       "50%       5294.117647  \n",
       "75%       6916.666667  \n",
       "max     176470.588235  "
      ]
     },
     "execution_count": 49,
     "metadata": {},
     "output_type": "execute_result"
    }
   ],
   "source": [
    "df= df[((df['total_sqft']/ df['bhk']) >= 300 ) ]\n",
    "df.describe()"
   ]
  },
  {
   "cell_type": "code",
   "execution_count": 50,
   "id": "57084342",
   "metadata": {
    "execution": {
     "iopub.execute_input": "2025-07-31T05:30:15.795281Z",
     "iopub.status.busy": "2025-07-31T05:30:15.794443Z",
     "iopub.status.idle": "2025-07-31T05:30:15.800777Z",
     "shell.execute_reply": "2025-07-31T05:30:15.799655Z"
    },
    "papermill": {
     "duration": 0.029588,
     "end_time": "2025-07-31T05:30:15.804398",
     "exception": false,
     "start_time": "2025-07-31T05:30:15.774810",
     "status": "completed"
    },
    "tags": []
   },
   "outputs": [
    {
     "data": {
      "text/plain": [
       "(12530, 10)"
      ]
     },
     "execution_count": 50,
     "metadata": {},
     "output_type": "execute_result"
    }
   ],
   "source": [
    "df.shape"
   ]
  },
  {
   "cell_type": "code",
   "execution_count": 51,
   "id": "a8bbc8fe",
   "metadata": {
    "execution": {
     "iopub.execute_input": "2025-07-31T05:30:15.843801Z",
     "iopub.status.busy": "2025-07-31T05:30:15.843316Z",
     "iopub.status.idle": "2025-07-31T05:30:15.854224Z",
     "shell.execute_reply": "2025-07-31T05:30:15.853159Z"
    },
    "papermill": {
     "duration": 0.032645,
     "end_time": "2025-07-31T05:30:15.856401",
     "exception": false,
     "start_time": "2025-07-31T05:30:15.823756",
     "status": "completed"
    },
    "tags": []
   },
   "outputs": [
    {
     "data": {
      "text/plain": [
       "count     12530.000000\n",
       "mean       6303.979357\n",
       "std        4162.237981\n",
       "min         267.829813\n",
       "25%        4210.526316\n",
       "50%        5294.117647\n",
       "75%        6916.666667\n",
       "max      176470.588235\n",
       "Name: price_per_sqft, dtype: float64"
      ]
     },
     "execution_count": 51,
     "metadata": {},
     "output_type": "execute_result"
    }
   ],
   "source": [
    "df.price_per_sqft.describe()"
   ]
  },
  {
   "cell_type": "markdown",
   "id": "a4c55be3",
   "metadata": {
    "papermill": {
     "duration": 0.017974,
     "end_time": "2025-07-31T05:30:15.893295",
     "exception": false,
     "start_time": "2025-07-31T05:30:15.875321",
     "status": "completed"
    },
    "tags": []
   },
   "source": [
    "**VISUALIZATION: DISTRIBUTIONS**"
   ]
  },
  {
   "cell_type": "code",
   "execution_count": 52,
   "id": "735ba18c",
   "metadata": {
    "execution": {
     "iopub.execute_input": "2025-07-31T05:30:15.932294Z",
     "iopub.status.busy": "2025-07-31T05:30:15.931974Z",
     "iopub.status.idle": "2025-07-31T05:30:16.340107Z",
     "shell.execute_reply": "2025-07-31T05:30:16.339045Z"
    },
    "papermill": {
     "duration": 0.429646,
     "end_time": "2025-07-31T05:30:16.341748",
     "exception": false,
     "start_time": "2025-07-31T05:30:15.912102",
     "status": "completed"
    },
    "tags": []
   },
   "outputs": [
    {
     "data": {
      "text/plain": [
       "<Axes: xlabel='price_per_sqft', ylabel='Density'>"
      ]
     },
     "execution_count": 52,
     "metadata": {},
     "output_type": "execute_result"
    },
    {
     "data": {
      "image/png": "[encoded data removed]",
      "text/plain": [
       "<Figure size 640x480 with 1 Axes>"
      ]
     },
     "metadata": {},
     "output_type": "display_data"
    }
   ],
   "source": [
    "sns.distplot(df[\"price_per_sqft\"])"
   ]
  },
  {
   "cell_type": "code",
   "execution_count": 53,
   "id": "d2c59bda",
   "metadata": {
    "execution": {
     "iopub.execute_input": "2025-07-31T05:30:16.382208Z",
     "iopub.status.busy": "2025-07-31T05:30:16.381877Z",
     "iopub.status.idle": "2025-07-31T05:30:16.391113Z",
     "shell.execute_reply": "2025-07-31T05:30:16.390283Z"
    },
    "papermill": {
     "duration": 0.031264,
     "end_time": "2025-07-31T05:30:16.392831",
     "exception": false,
     "start_time": "2025-07-31T05:30:16.361567",
     "status": "completed"
    },
    "tags": []
   },
   "outputs": [
    {
     "data": {
      "text/plain": [
       "area_type         79\n",
       "availability      79\n",
       "location          79\n",
       "size              79\n",
       "total_sqft        79\n",
       "bath              79\n",
       "balcony           79\n",
       "price             79\n",
       "bhk               79\n",
       "price_per_sqft    79\n",
       "dtype: int64"
      ]
     },
     "execution_count": 53,
     "metadata": {},
     "output_type": "execute_result"
    }
   ],
   "source": [
    "df[df[\"price_per_sqft\"]>25000].count()"
   ]
  },
  {
   "cell_type": "code",
   "execution_count": 54,
   "id": "7449e1cb",
   "metadata": {
    "execution": {
     "iopub.execute_input": "2025-07-31T05:30:16.434091Z",
     "iopub.status.busy": "2025-07-31T05:30:16.433174Z",
     "iopub.status.idle": "2025-07-31T05:30:16.451590Z",
     "shell.execute_reply": "2025-07-31T05:30:16.450569Z"
    },
    "papermill": {
     "duration": 0.040774,
     "end_time": "2025-07-31T05:30:16.453335",
     "exception": false,
     "start_time": "2025-07-31T05:30:16.412561",
     "status": "completed"
    },
    "tags": []
   },
   "outputs": [
    {
     "data": {
      "text/html": [
       "<div>\n",
       "<style scoped>\n",
       "    .dataframe tbody tr th:only-of-type {\n",
       "        vertical-align: middle;\n",
       "    }\n",
       "\n",
       "    .dataframe tbody tr th {\n",
       "        vertical-align: top;\n",
       "    }\n",
       "\n",
       "    .dataframe thead th {\n",
       "        text-align: right;\n",
       "    }\n",
       "</style>\n",
       "<table border=\"1\" class=\"dataframe\">\n",
       "  <thead>\n",
       "    <tr style=\"text-align: right;\">\n",
       "      <th></th>\n",
       "      <th>area_type</th>\n",
       "      <th>availability</th>\n",
       "      <th>location</th>\n",
       "      <th>size</th>\n",
       "      <th>total_sqft</th>\n",
       "      <th>bath</th>\n",
       "      <th>balcony</th>\n",
       "      <th>price</th>\n",
       "      <th>bhk</th>\n",
       "      <th>price_per_sqft</th>\n",
       "    </tr>\n",
       "  </thead>\n",
       "  <tbody>\n",
       "    <tr>\n",
       "      <th>0</th>\n",
       "      <td>Super built-up  Area</td>\n",
       "      <td>19-Dec</td>\n",
       "      <td>Electronic City Phase II</td>\n",
       "      <td>2 BHK</td>\n",
       "      <td>1056.0</td>\n",
       "      <td>2.0</td>\n",
       "      <td>1</td>\n",
       "      <td>39.07</td>\n",
       "      <td>2</td>\n",
       "      <td>3699.810606</td>\n",
       "    </tr>\n",
       "    <tr>\n",
       "      <th>1</th>\n",
       "      <td>Plot  Area</td>\n",
       "      <td>Ready To Move</td>\n",
       "      <td>Chikka Tirupathi</td>\n",
       "      <td>4 Bedroom</td>\n",
       "      <td>2600.0</td>\n",
       "      <td>5.0</td>\n",
       "      <td>3</td>\n",
       "      <td>120.00</td>\n",
       "      <td>4</td>\n",
       "      <td>4615.384615</td>\n",
       "    </tr>\n",
       "    <tr>\n",
       "      <th>2</th>\n",
       "      <td>Built-up  Area</td>\n",
       "      <td>Ready To Move</td>\n",
       "      <td>Uttarahalli</td>\n",
       "      <td>3 BHK</td>\n",
       "      <td>1440.0</td>\n",
       "      <td>2.0</td>\n",
       "      <td>3</td>\n",
       "      <td>62.00</td>\n",
       "      <td>3</td>\n",
       "      <td>4305.555556</td>\n",
       "    </tr>\n",
       "    <tr>\n",
       "      <th>3</th>\n",
       "      <td>Super built-up  Area</td>\n",
       "      <td>Ready To Move</td>\n",
       "      <td>Lingadheeranahalli</td>\n",
       "      <td>3 BHK</td>\n",
       "      <td>1521.0</td>\n",
       "      <td>3.0</td>\n",
       "      <td>1</td>\n",
       "      <td>95.00</td>\n",
       "      <td>3</td>\n",
       "      <td>6245.890861</td>\n",
       "    </tr>\n",
       "    <tr>\n",
       "      <th>4</th>\n",
       "      <td>Super built-up  Area</td>\n",
       "      <td>Ready To Move</td>\n",
       "      <td>Kothanur</td>\n",
       "      <td>2 BHK</td>\n",
       "      <td>1200.0</td>\n",
       "      <td>2.0</td>\n",
       "      <td>1</td>\n",
       "      <td>51.00</td>\n",
       "      <td>2</td>\n",
       "      <td>4250.000000</td>\n",
       "    </tr>\n",
       "    <tr>\n",
       "      <th>...</th>\n",
       "      <td>...</td>\n",
       "      <td>...</td>\n",
       "      <td>...</td>\n",
       "      <td>...</td>\n",
       "      <td>...</td>\n",
       "      <td>...</td>\n",
       "      <td>...</td>\n",
       "      <td>...</td>\n",
       "      <td>...</td>\n",
       "      <td>...</td>\n",
       "    </tr>\n",
       "    <tr>\n",
       "      <th>13315</th>\n",
       "      <td>Built-up  Area</td>\n",
       "      <td>Ready To Move</td>\n",
       "      <td>Whitefield</td>\n",
       "      <td>5 Bedroom</td>\n",
       "      <td>3453.0</td>\n",
       "      <td>4.0</td>\n",
       "      <td>0</td>\n",
       "      <td>231.00</td>\n",
       "      <td>5</td>\n",
       "      <td>6689.834926</td>\n",
       "    </tr>\n",
       "    <tr>\n",
       "      <th>13316</th>\n",
       "      <td>Super built-up  Area</td>\n",
       "      <td>Ready To Move</td>\n",
       "      <td>other</td>\n",
       "      <td>4 BHK</td>\n",
       "      <td>3600.0</td>\n",
       "      <td>5.0</td>\n",
       "      <td>2</td>\n",
       "      <td>400.00</td>\n",
       "      <td>4</td>\n",
       "      <td>11111.111111</td>\n",
       "    </tr>\n",
       "    <tr>\n",
       "      <th>13317</th>\n",
       "      <td>Built-up  Area</td>\n",
       "      <td>Ready To Move</td>\n",
       "      <td>Raja Rajeshwari Nagar</td>\n",
       "      <td>2 BHK</td>\n",
       "      <td>1141.0</td>\n",
       "      <td>2.0</td>\n",
       "      <td>1</td>\n",
       "      <td>60.00</td>\n",
       "      <td>2</td>\n",
       "      <td>5258.545136</td>\n",
       "    </tr>\n",
       "    <tr>\n",
       "      <th>13318</th>\n",
       "      <td>Super built-up  Area</td>\n",
       "      <td>18-Jun</td>\n",
       "      <td>Padmanabhanagar</td>\n",
       "      <td>4 BHK</td>\n",
       "      <td>4689.0</td>\n",
       "      <td>4.0</td>\n",
       "      <td>1</td>\n",
       "      <td>488.00</td>\n",
       "      <td>4</td>\n",
       "      <td>10407.336319</td>\n",
       "    </tr>\n",
       "    <tr>\n",
       "      <th>13319</th>\n",
       "      <td>Super built-up  Area</td>\n",
       "      <td>Ready To Move</td>\n",
       "      <td>Doddathoguru</td>\n",
       "      <td>1 BHK</td>\n",
       "      <td>550.0</td>\n",
       "      <td>1.0</td>\n",
       "      <td>1</td>\n",
       "      <td>17.00</td>\n",
       "      <td>1</td>\n",
       "      <td>3090.909091</td>\n",
       "    </tr>\n",
       "  </tbody>\n",
       "</table>\n",
       "<p>12451 rows × 10 columns</p>\n",
       "</div>"
      ],
      "text/plain": [
       "                  area_type   availability                  location  \\\n",
       "0      Super built-up  Area         19-Dec  Electronic City Phase II   \n",
       "1                Plot  Area  Ready To Move          Chikka Tirupathi   \n",
       "2            Built-up  Area  Ready To Move               Uttarahalli   \n",
       "3      Super built-up  Area  Ready To Move        Lingadheeranahalli   \n",
       "4      Super built-up  Area  Ready To Move                  Kothanur   \n",
       "...                     ...            ...                       ...   \n",
       "13315        Built-up  Area  Ready To Move                Whitefield   \n",
       "13316  Super built-up  Area  Ready To Move                     other   \n",
       "13317        Built-up  Area  Ready To Move     Raja Rajeshwari Nagar   \n",
       "13318  Super built-up  Area         18-Jun           Padmanabhanagar   \n",
       "13319  Super built-up  Area  Ready To Move              Doddathoguru   \n",
       "\n",
       "            size  total_sqft  bath  balcony   price  bhk  price_per_sqft  \n",
       "0          2 BHK      1056.0   2.0        1   39.07    2     3699.810606  \n",
       "1      4 Bedroom      2600.0   5.0        3  120.00    4     4615.384615  \n",
       "2          3 BHK      1440.0   2.0        3   62.00    3     4305.555556  \n",
       "3          3 BHK      1521.0   3.0        1   95.00    3     6245.890861  \n",
       "4          2 BHK      1200.0   2.0        1   51.00    2     4250.000000  \n",
       "...          ...         ...   ...      ...     ...  ...             ...  \n",
       "13315  5 Bedroom      3453.0   4.0        0  231.00    5     6689.834926  \n",
       "13316      4 BHK      3600.0   5.0        2  400.00    4    11111.111111  \n",
       "13317      2 BHK      1141.0   2.0        1   60.00    2     5258.545136  \n",
       "13318      4 BHK      4689.0   4.0        1  488.00    4    10407.336319  \n",
       "13319      1 BHK       550.0   1.0        1   17.00    1     3090.909091  \n",
       "\n",
       "[12451 rows x 10 columns]"
      ]
     },
     "execution_count": 54,
     "metadata": {},
     "output_type": "execute_result"
    }
   ],
   "source": [
    "df1 = df[df[\"price_per_sqft\"] <= 25000]\n",
    "df1"
   ]
  },
  {
   "cell_type": "code",
   "execution_count": 55,
   "id": "f7f3700c",
   "metadata": {
    "execution": {
     "iopub.execute_input": "2025-07-31T05:30:16.495906Z",
     "iopub.status.busy": "2025-07-31T05:30:16.495456Z",
     "iopub.status.idle": "2025-07-31T05:30:16.813960Z",
     "shell.execute_reply": "2025-07-31T05:30:16.812761Z"
    },
    "papermill": {
     "duration": 0.341745,
     "end_time": "2025-07-31T05:30:16.815730",
     "exception": false,
     "start_time": "2025-07-31T05:30:16.473985",
     "status": "completed"
    },
    "tags": []
   },
   "outputs": [
    {
     "data": {
      "image/png": "[encoded data removed]",
      "text/plain": [
       "<Figure size 640x480 with 1 Axes>"
      ]
     },
     "metadata": {},
     "output_type": "display_data"
    }
   ],
   "source": [
    "sns.histplot(df[\"price_per_sqft\"], bins=100)\n",
    "plt.title(\"Price per Sqft Distribution (after removing >25,000)\")\n",
    "plt.show()\n"
   ]
  },
  {
   "cell_type": "markdown",
   "id": "c60f00c2",
   "metadata": {
    "papermill": {
     "duration": 0.020769,
     "end_time": "2025-07-31T05:30:16.858205",
     "exception": false,
     "start_time": "2025-07-31T05:30:16.837436",
     "status": "completed"
    },
    "tags": []
   },
   "source": [
    "**REMOVING OUTLIERS USING CAPPING**"
   ]
  },
  {
   "cell_type": "code",
   "execution_count": 56,
   "id": "39d439ea",
   "metadata": {
    "execution": {
     "iopub.execute_input": "2025-07-31T05:30:16.905271Z",
     "iopub.status.busy": "2025-07-31T05:30:16.904986Z",
     "iopub.status.idle": "2025-07-31T05:30:16.913752Z",
     "shell.execute_reply": "2025-07-31T05:30:16.912868Z"
    },
    "papermill": {
     "duration": 0.033544,
     "end_time": "2025-07-31T05:30:16.915227",
     "exception": false,
     "start_time": "2025-07-31T05:30:16.881683",
     "status": "completed"
    },
    "tags": []
   },
   "outputs": [],
   "source": [
    "# Cap high outliers in price_per_sqft at 25,000\n",
    "cap_value = 25000\n",
    "df['price_per_sqft'] = df['price_per_sqft'].apply(lambda x: cap_value if x > cap_value else x)"
   ]
  },
  {
   "cell_type": "code",
   "execution_count": 57,
   "id": "35adfdd1",
   "metadata": {
    "execution": {
     "iopub.execute_input": "2025-07-31T05:30:16.958311Z",
     "iopub.status.busy": "2025-07-31T05:30:16.958023Z",
     "iopub.status.idle": "2025-07-31T05:30:16.966216Z",
     "shell.execute_reply": "2025-07-31T05:30:16.965427Z"
    },
    "papermill": {
     "duration": 0.031489,
     "end_time": "2025-07-31T05:30:16.967760",
     "exception": false,
     "start_time": "2025-07-31T05:30:16.936271",
     "status": "completed"
    },
    "tags": []
   },
   "outputs": [],
   "source": [
    "lower_cap = 500\n",
    "df['price_per_sqft'] = df['price_per_sqft'].apply(\n",
    "    lambda x: lower_cap if x < lower_cap else x\n",
    ")"
   ]
  },
  {
   "cell_type": "code",
   "execution_count": 58,
   "id": "a3d8f4ea",
   "metadata": {
    "execution": {
     "iopub.execute_input": "2025-07-31T05:30:17.012434Z",
     "iopub.status.busy": "2025-07-31T05:30:17.012143Z",
     "iopub.status.idle": "2025-07-31T05:30:17.451189Z",
     "shell.execute_reply": "2025-07-31T05:30:17.450031Z"
    },
    "papermill": {
     "duration": 0.463599,
     "end_time": "2025-07-31T05:30:17.453278",
     "exception": false,
     "start_time": "2025-07-31T05:30:16.989679",
     "status": "completed"
    },
    "tags": []
   },
   "outputs": [
    {
     "data": {
      "image/png": "[encoded data removed]",
      "text/plain": [
       "<Figure size 1000x600 with 1 Axes>"
      ]
     },
     "metadata": {},
     "output_type": "display_data"
    }
   ],
   "source": [
    "plt.figure(figsize=(10, 6))\n",
    "sns.histplot(df['price_per_sqft'], bins=100, kde=True)\n",
    "plt.title(\"Price per Sqft After Capping\")\n",
    "plt.xlabel(\"price_per_sqft\")\n",
    "plt.ylabel(\"Frequency\")\n",
    "plt.grid(True)\n",
    "plt.show()"
   ]
  },
  {
   "cell_type": "code",
   "execution_count": 59,
   "id": "1cb6a37f",
   "metadata": {
    "execution": {
     "iopub.execute_input": "2025-07-31T05:30:17.497420Z",
     "iopub.status.busy": "2025-07-31T05:30:17.497098Z",
     "iopub.status.idle": "2025-07-31T05:30:17.502898Z",
     "shell.execute_reply": "2025-07-31T05:30:17.501891Z"
    },
    "papermill": {
     "duration": 0.02923,
     "end_time": "2025-07-31T05:30:17.504416",
     "exception": false,
     "start_time": "2025-07-31T05:30:17.475186",
     "status": "completed"
    },
    "tags": []
   },
   "outputs": [
    {
     "name": "stdout",
     "output_type": "stream",
     "text": [
      "Max price_per_sqft after capping: 25000.0\n",
      "Min price_per_sqft after capping: 500.0\n"
     ]
    }
   ],
   "source": [
    "print(\"Max price_per_sqft after capping:\", df['price_per_sqft'].max())\n",
    "print(\"Min price_per_sqft after capping:\", df['price_per_sqft'].min())"
   ]
  },
  {
   "cell_type": "code",
   "execution_count": 60,
   "id": "68332e2c",
   "metadata": {
    "execution": {
     "iopub.execute_input": "2025-07-31T05:30:17.549826Z",
     "iopub.status.busy": "2025-07-31T05:30:17.549417Z",
     "iopub.status.idle": "2025-07-31T05:30:17.954797Z",
     "shell.execute_reply": "2025-07-31T05:30:17.953677Z"
    },
    "papermill": {
     "duration": 0.430525,
     "end_time": "2025-07-31T05:30:17.956808",
     "exception": false,
     "start_time": "2025-07-31T05:30:17.526283",
     "status": "completed"
    },
    "tags": []
   },
   "outputs": [
    {
     "data": {
      "image/png": "[encoded data removed]",
      "text/plain": [
       "<Figure size 640x480 with 1 Axes>"
      ]
     },
     "metadata": {},
     "output_type": "display_data"
    }
   ],
   "source": [
    "df['log_price_per_sqft'] = np.log1p(df['price_per_sqft'])\n",
    "sns.histplot(df['log_price_per_sqft'], kde=True)\n",
    "plt.title(\"Log-Transformed Price per Sqft\")\n",
    "plt.show()\n"
   ]
  },
  {
   "cell_type": "code",
   "execution_count": 61,
   "id": "06709354",
   "metadata": {
    "execution": {
     "iopub.execute_input": "2025-07-31T05:30:18.008950Z",
     "iopub.status.busy": "2025-07-31T05:30:18.008370Z",
     "iopub.status.idle": "2025-07-31T05:30:18.040883Z",
     "shell.execute_reply": "2025-07-31T05:30:18.039668Z"
    },
    "papermill": {
     "duration": 0.061953,
     "end_time": "2025-07-31T05:30:18.042630",
     "exception": false,
     "start_time": "2025-07-31T05:30:17.980677",
     "status": "completed"
    },
    "tags": []
   },
   "outputs": [
    {
     "data": {
      "text/html": [
       "<div>\n",
       "<style scoped>\n",
       "    .dataframe tbody tr th:only-of-type {\n",
       "        vertical-align: middle;\n",
       "    }\n",
       "\n",
       "    .dataframe tbody tr th {\n",
       "        vertical-align: top;\n",
       "    }\n",
       "\n",
       "    .dataframe thead th {\n",
       "        text-align: right;\n",
       "    }\n",
       "</style>\n",
       "<table border=\"1\" class=\"dataframe\">\n",
       "  <thead>\n",
       "    <tr style=\"text-align: right;\">\n",
       "      <th></th>\n",
       "      <th>total_sqft</th>\n",
       "      <th>bath</th>\n",
       "      <th>balcony</th>\n",
       "      <th>price</th>\n",
       "      <th>bhk</th>\n",
       "      <th>price_per_sqft</th>\n",
       "      <th>log_price_per_sqft</th>\n",
       "    </tr>\n",
       "  </thead>\n",
       "  <tbody>\n",
       "    <tr>\n",
       "      <th>count</th>\n",
       "      <td>12530.000000</td>\n",
       "      <td>12530.000000</td>\n",
       "      <td>12530.000000</td>\n",
       "      <td>12530.000000</td>\n",
       "      <td>12530.0</td>\n",
       "      <td>12530.000000</td>\n",
       "      <td>12530.000000</td>\n",
       "    </tr>\n",
       "    <tr>\n",
       "      <th>mean</th>\n",
       "      <td>1594.564544</td>\n",
       "      <td>2.559537</td>\n",
       "      <td>1.604629</td>\n",
       "      <td>111.382401</td>\n",
       "      <td>2.650838</td>\n",
       "      <td>6242.991723</td>\n",
       "      <td>8.631979</td>\n",
       "    </tr>\n",
       "    <tr>\n",
       "      <th>std</th>\n",
       "      <td>1261.271296</td>\n",
       "      <td>1.077938</td>\n",
       "      <td>0.796238</td>\n",
       "      <td>152.077329</td>\n",
       "      <td>0.976678</td>\n",
       "      <td>3485.502217</td>\n",
       "      <td>0.436392</td>\n",
       "    </tr>\n",
       "    <tr>\n",
       "      <th>min</th>\n",
       "      <td>300.000000</td>\n",
       "      <td>1.000000</td>\n",
       "      <td>0.000000</td>\n",
       "      <td>8.440000</td>\n",
       "      <td>1.0</td>\n",
       "      <td>500.000000</td>\n",
       "      <td>6.216606</td>\n",
       "    </tr>\n",
       "    <tr>\n",
       "      <th>25%</th>\n",
       "      <td>1116.000000</td>\n",
       "      <td>2.000000</td>\n",
       "      <td>1.000000</td>\n",
       "      <td>49.000000</td>\n",
       "      <td>2.0</td>\n",
       "      <td>4210.526316</td>\n",
       "      <td>8.345580</td>\n",
       "    </tr>\n",
       "    <tr>\n",
       "      <th>50%</th>\n",
       "      <td>1300.000000</td>\n",
       "      <td>2.000000</td>\n",
       "      <td>2.000000</td>\n",
       "      <td>70.000000</td>\n",
       "      <td>3.0</td>\n",
       "      <td>5294.117647</td>\n",
       "      <td>8.574540</td>\n",
       "    </tr>\n",
       "    <tr>\n",
       "      <th>75%</th>\n",
       "      <td>1700.000000</td>\n",
       "      <td>3.000000</td>\n",
       "      <td>2.000000</td>\n",
       "      <td>115.000000</td>\n",
       "      <td>3.0</td>\n",
       "      <td>6916.666667</td>\n",
       "      <td>8.841834</td>\n",
       "    </tr>\n",
       "    <tr>\n",
       "      <th>max</th>\n",
       "      <td>52272.000000</td>\n",
       "      <td>16.000000</td>\n",
       "      <td>3.000000</td>\n",
       "      <td>3600.000000</td>\n",
       "      <td>16.0</td>\n",
       "      <td>25000.000000</td>\n",
       "      <td>10.126671</td>\n",
       "    </tr>\n",
       "  </tbody>\n",
       "</table>\n",
       "</div>"
      ],
      "text/plain": [
       "         total_sqft          bath       balcony         price       bhk  \\\n",
       "count  12530.000000  12530.000000  12530.000000  12530.000000   12530.0   \n",
       "mean    1594.564544      2.559537      1.604629    111.382401  2.650838   \n",
       "std     1261.271296      1.077938      0.796238    152.077329  0.976678   \n",
       "min      300.000000      1.000000      0.000000      8.440000       1.0   \n",
       "25%     1116.000000      2.000000      1.000000     49.000000       2.0   \n",
       "50%     1300.000000      2.000000      2.000000     70.000000       3.0   \n",
       "75%     1700.000000      3.000000      2.000000    115.000000       3.0   \n",
       "max    52272.000000     16.000000      3.000000   3600.000000      16.0   \n",
       "\n",
       "       price_per_sqft  log_price_per_sqft  \n",
       "count    12530.000000        12530.000000  \n",
       "mean      6242.991723            8.631979  \n",
       "std       3485.502217            0.436392  \n",
       "min        500.000000            6.216606  \n",
       "25%       4210.526316            8.345580  \n",
       "50%       5294.117647            8.574540  \n",
       "75%       6916.666667            8.841834  \n",
       "max      25000.000000           10.126671  "
      ]
     },
     "execution_count": 61,
     "metadata": {},
     "output_type": "execute_result"
    }
   ],
   "source": [
    "df.describe()"
   ]
  },
  {
   "cell_type": "code",
   "execution_count": 62,
   "id": "fc466b19",
   "metadata": {
    "execution": {
     "iopub.execute_input": "2025-07-31T05:30:18.096079Z",
     "iopub.status.busy": "2025-07-31T05:30:18.095772Z",
     "iopub.status.idle": "2025-07-31T05:30:18.520195Z",
     "shell.execute_reply": "2025-07-31T05:30:18.519056Z"
    },
    "papermill": {
     "duration": 0.451491,
     "end_time": "2025-07-31T05:30:18.521907",
     "exception": false,
     "start_time": "2025-07-31T05:30:18.070416",
     "status": "completed"
    },
    "tags": []
   },
   "outputs": [
    {
     "data": {
      "text/plain": [
       "<Axes: xlabel='bhk', ylabel='Density'>"
      ]
     },
     "execution_count": 62,
     "metadata": {},
     "output_type": "execute_result"
    },
    {
     "data": {
      "image/png": "[encoded data removed]",
      "text/plain": [
       "<Figure size 640x480 with 1 Axes>"
      ]
     },
     "metadata": {},
     "output_type": "display_data"
    }
   ],
   "source": [
    "sns.distplot(df[\"bhk\"])"
   ]
  },
  {
   "cell_type": "code",
   "execution_count": 63,
   "id": "7f9c6310",
   "metadata": {
    "execution": {
     "iopub.execute_input": "2025-07-31T05:30:18.569580Z",
     "iopub.status.busy": "2025-07-31T05:30:18.569216Z",
     "iopub.status.idle": "2025-07-31T05:30:18.579810Z",
     "shell.execute_reply": "2025-07-31T05:30:18.578845Z"
    },
    "papermill": {
     "duration": 0.035921,
     "end_time": "2025-07-31T05:30:18.581638",
     "exception": false,
     "start_time": "2025-07-31T05:30:18.545717",
     "status": "completed"
    },
    "tags": []
   },
   "outputs": [],
   "source": [
    "#caping bhk values at 8\n",
    "df['bhk'] = df['bhk'].apply(lambda x: 8 if x > 8 else x)\n"
   ]
  },
  {
   "cell_type": "code",
   "execution_count": 64,
   "id": "52c20068",
   "metadata": {
    "execution": {
     "iopub.execute_input": "2025-07-31T05:30:18.629386Z",
     "iopub.status.busy": "2025-07-31T05:30:18.629060Z",
     "iopub.status.idle": "2025-07-31T05:30:18.635711Z",
     "shell.execute_reply": "2025-07-31T05:30:18.634627Z"
    },
    "papermill": {
     "duration": 0.032509,
     "end_time": "2025-07-31T05:30:18.637270",
     "exception": false,
     "start_time": "2025-07-31T05:30:18.604761",
     "status": "completed"
    },
    "tags": []
   },
   "outputs": [
    {
     "name": "stdout",
     "output_type": "stream",
     "text": [
      "Max bhk after capping: 8\n",
      "Min bhk after capping: 1\n"
     ]
    }
   ],
   "source": [
    "print(\"Max bhk after capping:\", df['bhk'].max())\n",
    "print(\"Min bhk after capping:\", df['bhk'].min())"
   ]
  },
  {
   "cell_type": "code",
   "execution_count": 65,
   "id": "d39c3973",
   "metadata": {
    "execution": {
     "iopub.execute_input": "2025-07-31T05:30:18.683716Z",
     "iopub.status.busy": "2025-07-31T05:30:18.683385Z",
     "iopub.status.idle": "2025-07-31T05:30:18.987324Z",
     "shell.execute_reply": "2025-07-31T05:30:18.986345Z"
    },
    "papermill": {
     "duration": 0.329268,
     "end_time": "2025-07-31T05:30:18.989223",
     "exception": false,
     "start_time": "2025-07-31T05:30:18.659955",
     "status": "completed"
    },
    "tags": []
   },
   "outputs": [
    {
     "name": "stdout",
     "output_type": "stream",
     "text": [
      "Max BHK after capping: 8\n"
     ]
    },
    {
     "data": {
      "image/png": "[encoded data removed]",
      "text/plain": [
       "<Figure size 640x480 with 1 Axes>"
      ]
     },
     "metadata": {},
     "output_type": "display_data"
    }
   ],
   "source": [
    "print(\"Max BHK after capping:\", df['bhk'].max())\n",
    "sns.countplot(x='bhk', data=df)\n",
    "plt.title(\"BHK Count After Capping\")\n",
    "plt.show()\n"
   ]
  },
  {
   "cell_type": "code",
   "execution_count": 66,
   "id": "fa549fc3",
   "metadata": {
    "execution": {
     "iopub.execute_input": "2025-07-31T05:30:19.043671Z",
     "iopub.status.busy": "2025-07-31T05:30:19.043286Z",
     "iopub.status.idle": "2025-07-31T05:30:19.050958Z",
     "shell.execute_reply": "2025-07-31T05:30:19.049731Z"
    },
    "papermill": {
     "duration": 0.037626,
     "end_time": "2025-07-31T05:30:19.053008",
     "exception": false,
     "start_time": "2025-07-31T05:30:19.015382",
     "status": "completed"
    },
    "tags": []
   },
   "outputs": [
    {
     "data": {
      "text/plain": [
       "(12530, 11)"
      ]
     },
     "execution_count": 66,
     "metadata": {},
     "output_type": "execute_result"
    }
   ],
   "source": [
    "df.shape"
   ]
  },
  {
   "cell_type": "code",
   "execution_count": 67,
   "id": "5a9fbcfb",
   "metadata": {
    "execution": {
     "iopub.execute_input": "2025-07-31T05:30:19.105366Z",
     "iopub.status.busy": "2025-07-31T05:30:19.105026Z",
     "iopub.status.idle": "2025-07-31T05:30:19.123920Z",
     "shell.execute_reply": "2025-07-31T05:30:19.123007Z"
    },
    "papermill": {
     "duration": 0.047593,
     "end_time": "2025-07-31T05:30:19.125650",
     "exception": false,
     "start_time": "2025-07-31T05:30:19.078057",
     "status": "completed"
    },
    "tags": []
   },
   "outputs": [
    {
     "data": {
      "text/html": [
       "<div>\n",
       "<style scoped>\n",
       "    .dataframe tbody tr th:only-of-type {\n",
       "        vertical-align: middle;\n",
       "    }\n",
       "\n",
       "    .dataframe tbody tr th {\n",
       "        vertical-align: top;\n",
       "    }\n",
       "\n",
       "    .dataframe thead th {\n",
       "        text-align: right;\n",
       "    }\n",
       "</style>\n",
       "<table border=\"1\" class=\"dataframe\">\n",
       "  <thead>\n",
       "    <tr style=\"text-align: right;\">\n",
       "      <th></th>\n",
       "      <th>area_type</th>\n",
       "      <th>availability</th>\n",
       "      <th>location</th>\n",
       "      <th>size</th>\n",
       "      <th>total_sqft</th>\n",
       "      <th>bath</th>\n",
       "      <th>balcony</th>\n",
       "      <th>price</th>\n",
       "      <th>bhk</th>\n",
       "      <th>price_per_sqft</th>\n",
       "      <th>log_price_per_sqft</th>\n",
       "    </tr>\n",
       "  </thead>\n",
       "  <tbody>\n",
       "    <tr>\n",
       "      <th>0</th>\n",
       "      <td>Super built-up  Area</td>\n",
       "      <td>19-Dec</td>\n",
       "      <td>Electronic City Phase II</td>\n",
       "      <td>2 BHK</td>\n",
       "      <td>1056.0</td>\n",
       "      <td>2.0</td>\n",
       "      <td>1</td>\n",
       "      <td>39.07</td>\n",
       "      <td>2</td>\n",
       "      <td>3699.810606</td>\n",
       "      <td>8.216307</td>\n",
       "    </tr>\n",
       "    <tr>\n",
       "      <th>1</th>\n",
       "      <td>Plot  Area</td>\n",
       "      <td>Ready To Move</td>\n",
       "      <td>Chikka Tirupathi</td>\n",
       "      <td>4 Bedroom</td>\n",
       "      <td>2600.0</td>\n",
       "      <td>5.0</td>\n",
       "      <td>3</td>\n",
       "      <td>120.00</td>\n",
       "      <td>4</td>\n",
       "      <td>4615.384615</td>\n",
       "      <td>8.437367</td>\n",
       "    </tr>\n",
       "    <tr>\n",
       "      <th>2</th>\n",
       "      <td>Built-up  Area</td>\n",
       "      <td>Ready To Move</td>\n",
       "      <td>Uttarahalli</td>\n",
       "      <td>3 BHK</td>\n",
       "      <td>1440.0</td>\n",
       "      <td>2.0</td>\n",
       "      <td>3</td>\n",
       "      <td>62.00</td>\n",
       "      <td>3</td>\n",
       "      <td>4305.555556</td>\n",
       "      <td>8.367894</td>\n",
       "    </tr>\n",
       "    <tr>\n",
       "      <th>3</th>\n",
       "      <td>Super built-up  Area</td>\n",
       "      <td>Ready To Move</td>\n",
       "      <td>Lingadheeranahalli</td>\n",
       "      <td>3 BHK</td>\n",
       "      <td>1521.0</td>\n",
       "      <td>3.0</td>\n",
       "      <td>1</td>\n",
       "      <td>95.00</td>\n",
       "      <td>3</td>\n",
       "      <td>6245.890861</td>\n",
       "      <td>8.739839</td>\n",
       "    </tr>\n",
       "    <tr>\n",
       "      <th>4</th>\n",
       "      <td>Super built-up  Area</td>\n",
       "      <td>Ready To Move</td>\n",
       "      <td>Kothanur</td>\n",
       "      <td>2 BHK</td>\n",
       "      <td>1200.0</td>\n",
       "      <td>2.0</td>\n",
       "      <td>1</td>\n",
       "      <td>51.00</td>\n",
       "      <td>2</td>\n",
       "      <td>4250.000000</td>\n",
       "      <td>8.354910</td>\n",
       "    </tr>\n",
       "    <tr>\n",
       "      <th>...</th>\n",
       "      <td>...</td>\n",
       "      <td>...</td>\n",
       "      <td>...</td>\n",
       "      <td>...</td>\n",
       "      <td>...</td>\n",
       "      <td>...</td>\n",
       "      <td>...</td>\n",
       "      <td>...</td>\n",
       "      <td>...</td>\n",
       "      <td>...</td>\n",
       "      <td>...</td>\n",
       "    </tr>\n",
       "    <tr>\n",
       "      <th>13315</th>\n",
       "      <td>Built-up  Area</td>\n",
       "      <td>Ready To Move</td>\n",
       "      <td>Whitefield</td>\n",
       "      <td>5 Bedroom</td>\n",
       "      <td>3453.0</td>\n",
       "      <td>4.0</td>\n",
       "      <td>0</td>\n",
       "      <td>231.00</td>\n",
       "      <td>5</td>\n",
       "      <td>6689.834926</td>\n",
       "      <td>8.808494</td>\n",
       "    </tr>\n",
       "    <tr>\n",
       "      <th>13316</th>\n",
       "      <td>Super built-up  Area</td>\n",
       "      <td>Ready To Move</td>\n",
       "      <td>other</td>\n",
       "      <td>4 BHK</td>\n",
       "      <td>3600.0</td>\n",
       "      <td>5.0</td>\n",
       "      <td>2</td>\n",
       "      <td>400.00</td>\n",
       "      <td>4</td>\n",
       "      <td>11111.111111</td>\n",
       "      <td>9.315791</td>\n",
       "    </tr>\n",
       "    <tr>\n",
       "      <th>13317</th>\n",
       "      <td>Built-up  Area</td>\n",
       "      <td>Ready To Move</td>\n",
       "      <td>Raja Rajeshwari Nagar</td>\n",
       "      <td>2 BHK</td>\n",
       "      <td>1141.0</td>\n",
       "      <td>2.0</td>\n",
       "      <td>1</td>\n",
       "      <td>60.00</td>\n",
       "      <td>2</td>\n",
       "      <td>5258.545136</td>\n",
       "      <td>8.567800</td>\n",
       "    </tr>\n",
       "    <tr>\n",
       "      <th>13318</th>\n",
       "      <td>Super built-up  Area</td>\n",
       "      <td>18-Jun</td>\n",
       "      <td>Padmanabhanagar</td>\n",
       "      <td>4 BHK</td>\n",
       "      <td>4689.0</td>\n",
       "      <td>4.0</td>\n",
       "      <td>1</td>\n",
       "      <td>488.00</td>\n",
       "      <td>4</td>\n",
       "      <td>10407.336319</td>\n",
       "      <td>9.250362</td>\n",
       "    </tr>\n",
       "    <tr>\n",
       "      <th>13319</th>\n",
       "      <td>Super built-up  Area</td>\n",
       "      <td>Ready To Move</td>\n",
       "      <td>Doddathoguru</td>\n",
       "      <td>1 BHK</td>\n",
       "      <td>550.0</td>\n",
       "      <td>1.0</td>\n",
       "      <td>1</td>\n",
       "      <td>17.00</td>\n",
       "      <td>1</td>\n",
       "      <td>3090.909091</td>\n",
       "      <td>8.036544</td>\n",
       "    </tr>\n",
       "  </tbody>\n",
       "</table>\n",
       "<p>12530 rows × 11 columns</p>\n",
       "</div>"
      ],
      "text/plain": [
       "                  area_type   availability                  location  \\\n",
       "0      Super built-up  Area         19-Dec  Electronic City Phase II   \n",
       "1                Plot  Area  Ready To Move          Chikka Tirupathi   \n",
       "2            Built-up  Area  Ready To Move               Uttarahalli   \n",
       "3      Super built-up  Area  Ready To Move        Lingadheeranahalli   \n",
       "4      Super built-up  Area  Ready To Move                  Kothanur   \n",
       "...                     ...            ...                       ...   \n",
       "13315        Built-up  Area  Ready To Move                Whitefield   \n",
       "13316  Super built-up  Area  Ready To Move                     other   \n",
       "13317        Built-up  Area  Ready To Move     Raja Rajeshwari Nagar   \n",
       "13318  Super built-up  Area         18-Jun           Padmanabhanagar   \n",
       "13319  Super built-up  Area  Ready To Move              Doddathoguru   \n",
       "\n",
       "            size  total_sqft  bath  balcony   price  bhk  price_per_sqft  \\\n",
       "0          2 BHK      1056.0   2.0        1   39.07    2     3699.810606   \n",
       "1      4 Bedroom      2600.0   5.0        3  120.00    4     4615.384615   \n",
       "2          3 BHK      1440.0   2.0        3   62.00    3     4305.555556   \n",
       "3          3 BHK      1521.0   3.0        1   95.00    3     6245.890861   \n",
       "4          2 BHK      1200.0   2.0        1   51.00    2     4250.000000   \n",
       "...          ...         ...   ...      ...     ...  ...             ...   \n",
       "13315  5 Bedroom      3453.0   4.0        0  231.00    5     6689.834926   \n",
       "13316      4 BHK      3600.0   5.0        2  400.00    4    11111.111111   \n",
       "13317      2 BHK      1141.0   2.0        1   60.00    2     5258.545136   \n",
       "13318      4 BHK      4689.0   4.0        1  488.00    4    10407.336319   \n",
       "13319      1 BHK       550.0   1.0        1   17.00    1     3090.909091   \n",
       "\n",
       "       log_price_per_sqft  \n",
       "0                8.216307  \n",
       "1                8.437367  \n",
       "2                8.367894  \n",
       "3                8.739839  \n",
       "4                8.354910  \n",
       "...                   ...  \n",
       "13315            8.808494  \n",
       "13316            9.315791  \n",
       "13317            8.567800  \n",
       "13318            9.250362  \n",
       "13319            8.036544  \n",
       "\n",
       "[12530 rows x 11 columns]"
      ]
     },
     "execution_count": 67,
     "metadata": {},
     "output_type": "execute_result"
    }
   ],
   "source": [
    "df"
   ]
  },
  {
   "cell_type": "code",
   "execution_count": 68,
   "id": "2a767e14",
   "metadata": {
    "execution": {
     "iopub.execute_input": "2025-07-31T05:30:19.177560Z",
     "iopub.status.busy": "2025-07-31T05:30:19.177205Z",
     "iopub.status.idle": "2025-07-31T05:30:19.184191Z",
     "shell.execute_reply": "2025-07-31T05:30:19.183322Z"
    },
    "papermill": {
     "duration": 0.034464,
     "end_time": "2025-07-31T05:30:19.185863",
     "exception": false,
     "start_time": "2025-07-31T05:30:19.151399",
     "status": "completed"
    },
    "tags": []
   },
   "outputs": [],
   "source": [
    "df.drop(columns=[\"size\", \"area_type\", \"price_per_sqft\"], inplace=True)\n"
   ]
  },
  {
   "cell_type": "code",
   "execution_count": 69,
   "id": "33ee1635",
   "metadata": {
    "execution": {
     "iopub.execute_input": "2025-07-31T05:30:19.236579Z",
     "iopub.status.busy": "2025-07-31T05:30:19.236207Z",
     "iopub.status.idle": "2025-07-31T05:30:19.249914Z",
     "shell.execute_reply": "2025-07-31T05:30:19.248792Z"
    },
    "papermill": {
     "duration": 0.040145,
     "end_time": "2025-07-31T05:30:19.251783",
     "exception": false,
     "start_time": "2025-07-31T05:30:19.211638",
     "status": "completed"
    },
    "tags": []
   },
   "outputs": [
    {
     "data": {
      "text/html": [
       "<div>\n",
       "<style scoped>\n",
       "    .dataframe tbody tr th:only-of-type {\n",
       "        vertical-align: middle;\n",
       "    }\n",
       "\n",
       "    .dataframe tbody tr th {\n",
       "        vertical-align: top;\n",
       "    }\n",
       "\n",
       "    .dataframe thead th {\n",
       "        text-align: right;\n",
       "    }\n",
       "</style>\n",
       "<table border=\"1\" class=\"dataframe\">\n",
       "  <thead>\n",
       "    <tr style=\"text-align: right;\">\n",
       "      <th></th>\n",
       "      <th>availability</th>\n",
       "      <th>location</th>\n",
       "      <th>total_sqft</th>\n",
       "      <th>bath</th>\n",
       "      <th>balcony</th>\n",
       "      <th>price</th>\n",
       "      <th>bhk</th>\n",
       "      <th>log_price_per_sqft</th>\n",
       "    </tr>\n",
       "  </thead>\n",
       "  <tbody>\n",
       "    <tr>\n",
       "      <th>0</th>\n",
       "      <td>19-Dec</td>\n",
       "      <td>Electronic City Phase II</td>\n",
       "      <td>1056.0</td>\n",
       "      <td>2.0</td>\n",
       "      <td>1</td>\n",
       "      <td>39.07</td>\n",
       "      <td>2</td>\n",
       "      <td>8.216307</td>\n",
       "    </tr>\n",
       "    <tr>\n",
       "      <th>1</th>\n",
       "      <td>Ready To Move</td>\n",
       "      <td>Chikka Tirupathi</td>\n",
       "      <td>2600.0</td>\n",
       "      <td>5.0</td>\n",
       "      <td>3</td>\n",
       "      <td>120.00</td>\n",
       "      <td>4</td>\n",
       "      <td>8.437367</td>\n",
       "    </tr>\n",
       "    <tr>\n",
       "      <th>2</th>\n",
       "      <td>Ready To Move</td>\n",
       "      <td>Uttarahalli</td>\n",
       "      <td>1440.0</td>\n",
       "      <td>2.0</td>\n",
       "      <td>3</td>\n",
       "      <td>62.00</td>\n",
       "      <td>3</td>\n",
       "      <td>8.367894</td>\n",
       "    </tr>\n",
       "    <tr>\n",
       "      <th>3</th>\n",
       "      <td>Ready To Move</td>\n",
       "      <td>Lingadheeranahalli</td>\n",
       "      <td>1521.0</td>\n",
       "      <td>3.0</td>\n",
       "      <td>1</td>\n",
       "      <td>95.00</td>\n",
       "      <td>3</td>\n",
       "      <td>8.739839</td>\n",
       "    </tr>\n",
       "    <tr>\n",
       "      <th>4</th>\n",
       "      <td>Ready To Move</td>\n",
       "      <td>Kothanur</td>\n",
       "      <td>1200.0</td>\n",
       "      <td>2.0</td>\n",
       "      <td>1</td>\n",
       "      <td>51.00</td>\n",
       "      <td>2</td>\n",
       "      <td>8.354910</td>\n",
       "    </tr>\n",
       "  </tbody>\n",
       "</table>\n",
       "</div>"
      ],
      "text/plain": [
       "    availability                  location  total_sqft  bath  balcony   price  \\\n",
       "0         19-Dec  Electronic City Phase II      1056.0   2.0        1   39.07   \n",
       "1  Ready To Move          Chikka Tirupathi      2600.0   5.0        3  120.00   \n",
       "2  Ready To Move               Uttarahalli      1440.0   2.0        3   62.00   \n",
       "3  Ready To Move        Lingadheeranahalli      1521.0   3.0        1   95.00   \n",
       "4  Ready To Move                  Kothanur      1200.0   2.0        1   51.00   \n",
       "\n",
       "   bhk  log_price_per_sqft  \n",
       "0    2            8.216307  \n",
       "1    4            8.437367  \n",
       "2    3            8.367894  \n",
       "3    3            8.739839  \n",
       "4    2            8.354910  "
      ]
     },
     "execution_count": 69,
     "metadata": {},
     "output_type": "execute_result"
    }
   ],
   "source": [
    "df.head()"
   ]
  },
  {
   "cell_type": "markdown",
   "id": "0e47c67b",
   "metadata": {
    "papermill": {
     "duration": 0.023492,
     "end_time": "2025-07-31T05:30:19.301511",
     "exception": false,
     "start_time": "2025-07-31T05:30:19.278019",
     "status": "completed"
    },
    "tags": []
   },
   "source": [
    "**ENCODING**"
   ]
  },
  {
   "cell_type": "code",
   "execution_count": 70,
   "id": "1a773320",
   "metadata": {
    "execution": {
     "iopub.execute_input": "2025-07-31T05:30:19.353013Z",
     "iopub.status.busy": "2025-07-31T05:30:19.352329Z",
     "iopub.status.idle": "2025-07-31T05:30:19.357997Z",
     "shell.execute_reply": "2025-07-31T05:30:19.357050Z"
    },
    "papermill": {
     "duration": 0.033044,
     "end_time": "2025-07-31T05:30:19.359596",
     "exception": false,
     "start_time": "2025-07-31T05:30:19.326552",
     "status": "completed"
    },
    "tags": []
   },
   "outputs": [],
   "source": [
    "categorical_cols = ['availability', 'location']\n",
    "\n",
    "preprocessor = ColumnTransformer(transformers=[ ('cat', OneHotEncoder(handle_unknown='ignore'), categorical_cols) ], remainder='passthrough')"
   ]
  },
  {
   "cell_type": "markdown",
   "id": "a0d7755f",
   "metadata": {
    "papermill": {
     "duration": 0.023802,
     "end_time": "2025-07-31T05:30:19.408159",
     "exception": false,
     "start_time": "2025-07-31T05:30:19.384357",
     "status": "completed"
    },
    "tags": []
   },
   "source": [
    "**MODEL TRAINING SECTION**"
   ]
  },
  {
   "cell_type": "code",
   "execution_count": 71,
   "id": "46dbb421",
   "metadata": {
    "execution": {
     "iopub.execute_input": "2025-07-31T05:30:19.457258Z",
     "iopub.status.busy": "2025-07-31T05:30:19.456914Z",
     "iopub.status.idle": "2025-07-31T05:30:19.464000Z",
     "shell.execute_reply": "2025-07-31T05:30:19.462835Z"
    },
    "papermill": {
     "duration": 0.03399,
     "end_time": "2025-07-31T05:30:19.465687",
     "exception": false,
     "start_time": "2025-07-31T05:30:19.431697",
     "status": "completed"
    },
    "tags": []
   },
   "outputs": [],
   "source": [
    "X = df.drop(columns=[\"price\"])\n",
    "y = df[\"price\"]"
   ]
  },
  {
   "cell_type": "code",
   "execution_count": 72,
   "id": "24dd4666",
   "metadata": {
    "execution": {
     "iopub.execute_input": "2025-07-31T05:30:19.520110Z",
     "iopub.status.busy": "2025-07-31T05:30:19.519760Z",
     "iopub.status.idle": "2025-07-31T05:30:19.530467Z",
     "shell.execute_reply": "2025-07-31T05:30:19.529410Z"
    },
    "papermill": {
     "duration": 0.038897,
     "end_time": "2025-07-31T05:30:19.532375",
     "exception": false,
     "start_time": "2025-07-31T05:30:19.493478",
     "status": "completed"
    },
    "tags": []
   },
   "outputs": [],
   "source": [
    "X_train, X_test, y_train, y_test = train_test_split(\n",
    "    X, y, test_size=0.2, random_state=42\n",
    ")"
   ]
  },
  {
   "cell_type": "markdown",
   "id": "400239d8",
   "metadata": {
    "papermill": {
     "duration": 0.024114,
     "end_time": "2025-07-31T05:30:19.581033",
     "exception": false,
     "start_time": "2025-07-31T05:30:19.556919",
     "status": "completed"
    },
    "tags": []
   },
   "source": [
    "**PIPELINE**"
   ]
  },
  {
   "cell_type": "code",
   "execution_count": 73,
   "id": "64435fb6",
   "metadata": {
    "execution": {
     "iopub.execute_input": "2025-07-31T05:30:19.629996Z",
     "iopub.status.busy": "2025-07-31T05:30:19.629493Z",
     "iopub.status.idle": "2025-07-31T05:30:19.636204Z",
     "shell.execute_reply": "2025-07-31T05:30:19.634914Z"
    },
    "papermill": {
     "duration": 0.033052,
     "end_time": "2025-07-31T05:30:19.637883",
     "exception": false,
     "start_time": "2025-07-31T05:30:19.604831",
     "status": "completed"
    },
    "tags": []
   },
   "outputs": [
    {
     "data": {
      "text/plain": [
       "\" model_pipeline = Pipeline(steps=[\\n    ('preprocessor', preprocessor),\\n    ('regressor', LinearRegression())\\n])\\n\\nmodel_pipeline.fit(X_train, y_train)  \""
      ]
     },
     "execution_count": 73,
     "metadata": {},
     "output_type": "execute_result"
    }
   ],
   "source": [
    "''' model_pipeline = Pipeline(steps=[\n",
    "    ('preprocessor', preprocessor),\n",
    "    ('regressor', LinearRegression())\n",
    "])\n",
    "\n",
    "model_pipeline.fit(X_train, y_train)  '''"
   ]
  },
  {
   "cell_type": "code",
   "execution_count": 74,
   "id": "5ec9bc4f",
   "metadata": {
    "execution": {
     "iopub.execute_input": "2025-07-31T05:30:19.687957Z",
     "iopub.status.busy": "2025-07-31T05:30:19.687595Z",
     "iopub.status.idle": "2025-07-31T05:30:41.862664Z",
     "shell.execute_reply": "2025-07-31T05:30:41.861630Z"
    },
    "papermill": {
     "duration": 22.202024,
     "end_time": "2025-07-31T05:30:41.864244",
     "exception": false,
     "start_time": "2025-07-31T05:30:19.662220",
     "status": "completed"
    },
    "tags": []
   },
   "outputs": [
    {
     "data": {
      "text/html": [
       "<style>#sk-container-id-1 {color: black;background-color: white;}#sk-container-id-1 pre{padding: 0;}#sk-container-id-1 div.sk-toggleable {background-color: white;}#sk-container-id-1 label.sk-toggleable__label {cursor: pointer;display: block;width: 100%;margin-bottom: 0;padding: 0.3em;box-sizing: border-box;text-align: center;}#sk-container-id-1 label.sk-toggleable__label-arrow:before {content: \"▸\";float: left;margin-right: 0.25em;color: #696969;}#sk-container-id-1 label.sk-toggleable__label-arrow:hover:before {color: black;}#sk-container-id-1 div.sk-estimator:hover label.sk-toggleable__label-arrow:before {color: black;}#sk-container-id-1 div.sk-toggleable__content {max-height: 0;max-width: 0;overflow: hidden;text-align: left;background-color: #f0f8ff;}#sk-container-id-1 div.sk-toggleable__content pre {margin: 0.2em;color: black;border-radius: 0.25em;background-color: #f0f8ff;}#sk-container-id-1 input.sk-toggleable__control:checked~div.sk-toggleable__content {max-height: 200px;max-width: 100%;overflow: auto;}#sk-container-id-1 input.sk-toggleable__control:checked~label.sk-toggleable__label-arrow:before {content: \"▾\";}#sk-container-id-1 div.sk-estimator input.sk-toggleable__control:checked~label.sk-toggleable__label {background-color: #d4ebff;}#sk-container-id-1 div.sk-label input.sk-toggleable__control:checked~label.sk-toggleable__label {background-color: #d4ebff;}#sk-container-id-1 input.sk-hidden--visually {border: 0;clip: rect(1px 1px 1px 1px);clip: rect(1px, 1px, 1px, 1px);height: 1px;margin: -1px;overflow: hidden;padding: 0;position: absolute;width: 1px;}#sk-container-id-1 div.sk-estimator {font-family: monospace;background-color: #f0f8ff;border: 1px dotted black;border-radius: 0.25em;box-sizing: border-box;margin-bottom: 0.5em;}#sk-container-id-1 div.sk-estimator:hover {background-color: #d4ebff;}#sk-container-id-1 div.sk-parallel-item::after {content: \"\";width: 100%;border-bottom: 1px solid gray;flex-grow: 1;}#sk-container-id-1 div.sk-label:hover label.sk-toggleable__label {background-color: #d4ebff;}#sk-container-id-1 div.sk-serial::before {content: \"\";position: absolute;border-left: 1px solid gray;box-sizing: border-box;top: 0;bottom: 0;left: 50%;z-index: 0;}#sk-container-id-1 div.sk-serial {display: flex;flex-direction: column;align-items: center;background-color: white;padding-right: 0.2em;padding-left: 0.2em;position: relative;}#sk-container-id-1 div.sk-item {position: relative;z-index: 1;}#sk-container-id-1 div.sk-parallel {display: flex;align-items: stretch;justify-content: center;background-color: white;position: relative;}#sk-container-id-1 div.sk-item::before, #sk-container-id-1 div.sk-parallel-item::before {content: \"\";position: absolute;border-left: 1px solid gray;box-sizing: border-box;top: 0;bottom: 0;left: 50%;z-index: -1;}#sk-container-id-1 div.sk-parallel-item {display: flex;flex-direction: column;z-index: 1;position: relative;background-color: white;}#sk-container-id-1 div.sk-parallel-item:first-child::after {align-self: flex-end;width: 50%;}#sk-container-id-1 div.sk-parallel-item:last-child::after {align-self: flex-start;width: 50%;}#sk-container-id-1 div.sk-parallel-item:only-child::after {width: 0;}#sk-container-id-1 div.sk-dashed-wrapped {border: 1px dashed gray;margin: 0 0.4em 0.5em 0.4em;box-sizing: border-box;padding-bottom: 0.4em;background-color: white;}#sk-container-id-1 div.sk-label label {font-family: monospace;font-weight: bold;display: inline-block;line-height: 1.2em;}#sk-container-id-1 div.sk-label-container {text-align: center;}#sk-container-id-1 div.sk-container {/* jupyter's `normalize.less` sets `[hidden] { display: none; }` but bootstrap.min.css set `[hidden] { display: none !important; }` so we also need the `!important` here to be able to override the default hidden behavior on the sphinx rendered scikit-learn.org. See: https://github.com/scikit-learn/scikit-learn/issues/21755 */display: inline-block !important;position: relative;}#sk-container-id-1 div.sk-text-repr-fallback {display: none;}</style><div id=\"sk-container-id-1\" class=\"sk-top-container\"><div class=\"sk-text-repr-fallback\"><pre>Pipeline(steps=[(&#x27;preprocessor&#x27;,\n",
       "                 ColumnTransformer(remainder=&#x27;passthrough&#x27;,\n",
       "                                   transformers=[(&#x27;cat&#x27;,\n",
       "                                                  OneHotEncoder(handle_unknown=&#x27;ignore&#x27;),\n",
       "                                                  [&#x27;availability&#x27;,\n",
       "                                                   &#x27;location&#x27;])])),\n",
       "                (&#x27;regressor&#x27;, RandomForestRegressor(random_state=42))])</pre><b>In a Jupyter environment, please rerun this cell to show the HTML representation or trust the notebook. <br />On GitHub, the HTML representation is unable to render, please try loading this page with nbviewer.org.</b></div><div class=\"sk-container\" hidden><div class=\"sk-item sk-dashed-wrapped\"><div class=\"sk-label-container\"><div class=\"sk-label sk-toggleable\"><input class=\"sk-toggleable__control sk-hidden--visually\" id=\"sk-estimator-id-1\" type=\"checkbox\" ><label for=\"sk-estimator-id-1\" class=\"sk-toggleable__label sk-toggleable__label-arrow\">Pipeline</label><div class=\"sk-toggleable__content\"><pre>Pipeline(steps=[(&#x27;preprocessor&#x27;,\n",
       "                 ColumnTransformer(remainder=&#x27;passthrough&#x27;,\n",
       "                                   transformers=[(&#x27;cat&#x27;,\n",
       "                                                  OneHotEncoder(handle_unknown=&#x27;ignore&#x27;),\n",
       "                                                  [&#x27;availability&#x27;,\n",
       "                                                   &#x27;location&#x27;])])),\n",
       "                (&#x27;regressor&#x27;, RandomForestRegressor(random_state=42))])</pre></div></div></div><div class=\"sk-serial\"><div class=\"sk-item sk-dashed-wrapped\"><div class=\"sk-label-container\"><div class=\"sk-label sk-toggleable\"><input class=\"sk-toggleable__control sk-hidden--visually\" id=\"sk-estimator-id-2\" type=\"checkbox\" ><label for=\"sk-estimator-id-2\" class=\"sk-toggleable__label sk-toggleable__label-arrow\">preprocessor: ColumnTransformer</label><div class=\"sk-toggleable__content\"><pre>ColumnTransformer(remainder=&#x27;passthrough&#x27;,\n",
       "                  transformers=[(&#x27;cat&#x27;, OneHotEncoder(handle_unknown=&#x27;ignore&#x27;),\n",
       "                                 [&#x27;availability&#x27;, &#x27;location&#x27;])])</pre></div></div></div><div class=\"sk-parallel\"><div class=\"sk-parallel-item\"><div class=\"sk-item\"><div class=\"sk-label-container\"><div class=\"sk-label sk-toggleable\"><input class=\"sk-toggleable__control sk-hidden--visually\" id=\"sk-estimator-id-3\" type=\"checkbox\" ><label for=\"sk-estimator-id-3\" class=\"sk-toggleable__label sk-toggleable__label-arrow\">cat</label><div class=\"sk-toggleable__content\"><pre>[&#x27;availability&#x27;, &#x27;location&#x27;]</pre></div></div></div><div class=\"sk-serial\"><div class=\"sk-item\"><div class=\"sk-estimator sk-toggleable\"><input class=\"sk-toggleable__control sk-hidden--visually\" id=\"sk-estimator-id-4\" type=\"checkbox\" ><label for=\"sk-estimator-id-4\" class=\"sk-toggleable__label sk-toggleable__label-arrow\">OneHotEncoder</label><div class=\"sk-toggleable__content\"><pre>OneHotEncoder(handle_unknown=&#x27;ignore&#x27;)</pre></div></div></div></div></div></div><div class=\"sk-parallel-item\"><div class=\"sk-item\"><div class=\"sk-label-container\"><div class=\"sk-label sk-toggleable\"><input class=\"sk-toggleable__control sk-hidden--visually\" id=\"sk-estimator-id-5\" type=\"checkbox\" ><label for=\"sk-estimator-id-5\" class=\"sk-toggleable__label sk-toggleable__label-arrow\">remainder</label><div class=\"sk-toggleable__content\"><pre>[&#x27;total_sqft&#x27;, &#x27;bath&#x27;, &#x27;balcony&#x27;, &#x27;bhk&#x27;, &#x27;log_price_per_sqft&#x27;]</pre></div></div></div><div class=\"sk-serial\"><div class=\"sk-item\"><div class=\"sk-estimator sk-toggleable\"><input class=\"sk-toggleable__control sk-hidden--visually\" id=\"sk-estimator-id-6\" type=\"checkbox\" ><label for=\"sk-estimator-id-6\" class=\"sk-toggleable__label sk-toggleable__label-arrow\">passthrough</label><div class=\"sk-toggleable__content\"><pre>passthrough</pre></div></div></div></div></div></div></div></div><div class=\"sk-item\"><div class=\"sk-estimator sk-toggleable\"><input class=\"sk-toggleable__control sk-hidden--visually\" id=\"sk-estimator-id-7\" type=\"checkbox\" ><label for=\"sk-estimator-id-7\" class=\"sk-toggleable__label sk-toggleable__label-arrow\">RandomForestRegressor</label><div class=\"sk-toggleable__content\"><pre>RandomForestRegressor(random_state=42)</pre></div></div></div></div></div></div></div>"
      ],
      "text/plain": [
       "Pipeline(steps=[('preprocessor',\n",
       "                 ColumnTransformer(remainder='passthrough',\n",
       "                                   transformers=[('cat',\n",
       "                                                  OneHotEncoder(handle_unknown='ignore'),\n",
       "                                                  ['availability',\n",
       "                                                   'location'])])),\n",
       "                ('regressor', RandomForestRegressor(random_state=42))])"
      ]
     },
     "execution_count": 74,
     "metadata": {},
     "output_type": "execute_result"
    }
   ],
   "source": [
    "model_pipeline = Pipeline(steps=[\n",
    "    ('preprocessor', preprocessor),  \n",
    "    ('regressor', RandomForestRegressor(n_estimators=100, random_state=42))\n",
    "])\n",
    "\n",
    "model_pipeline.fit(X_train, y_train)"
   ]
  },
  {
   "cell_type": "code",
   "execution_count": 75,
   "id": "9f3b4da9",
   "metadata": {
    "execution": {
     "iopub.execute_input": "2025-07-31T05:30:41.916352Z",
     "iopub.status.busy": "2025-07-31T05:30:41.915365Z",
     "iopub.status.idle": "2025-07-31T05:30:42.008804Z",
     "shell.execute_reply": "2025-07-31T05:30:42.007992Z"
    },
    "papermill": {
     "duration": 0.119976,
     "end_time": "2025-07-31T05:30:42.010274",
     "exception": false,
     "start_time": "2025-07-31T05:30:41.890298",
     "status": "completed"
    },
    "tags": []
   },
   "outputs": [
    {
     "data": {
      "text/plain": [
       "['Bangalore-project.joblib']"
      ]
     },
     "execution_count": 75,
     "metadata": {},
     "output_type": "execute_result"
    }
   ],
   "source": [
    "import joblib\n",
    "joblib.dump(model_pipeline, 'Bangalore-project.joblib')"
   ]
  },
  {
   "cell_type": "code",
   "execution_count": 76,
   "id": "ef6cedb6",
   "metadata": {
    "execution": {
     "iopub.execute_input": "2025-07-31T05:30:42.064157Z",
     "iopub.status.busy": "2025-07-31T05:30:42.063832Z",
     "iopub.status.idle": "2025-07-31T05:30:42.139228Z",
     "shell.execute_reply": "2025-07-31T05:30:42.138114Z"
    },
    "papermill": {
     "duration": 0.103362,
     "end_time": "2025-07-31T05:30:42.141223",
     "exception": false,
     "start_time": "2025-07-31T05:30:42.037861",
     "status": "completed"
    },
    "tags": []
   },
   "outputs": [],
   "source": [
    "y_pred = model_pipeline.predict(X_test)"
   ]
  },
  {
   "cell_type": "markdown",
   "id": "25b828ad",
   "metadata": {
    "papermill": {
     "duration": 0.024469,
     "end_time": "2025-07-31T05:30:42.190601",
     "exception": false,
     "start_time": "2025-07-31T05:30:42.166132",
     "status": "completed"
    },
    "tags": []
   },
   "source": [
    "**MODEL EVALUATION**"
   ]
  },
  {
   "cell_type": "code",
   "execution_count": 77,
   "id": "a3af4235",
   "metadata": {
    "execution": {
     "iopub.execute_input": "2025-07-31T05:30:42.245011Z",
     "iopub.status.busy": "2025-07-31T05:30:42.244658Z",
     "iopub.status.idle": "2025-07-31T05:30:42.250369Z",
     "shell.execute_reply": "2025-07-31T05:30:42.249616Z"
    },
    "papermill": {
     "duration": 0.034418,
     "end_time": "2025-07-31T05:30:42.252146",
     "exception": false,
     "start_time": "2025-07-31T05:30:42.217728",
     "status": "completed"
    },
    "tags": []
   },
   "outputs": [
    {
     "data": {
      "text/plain": [
       "' \\nprint(\"Linear Regression Performance:\")\\nprint(\"RMSE:\", mean_squared_error(y_test, y_pred, squared=False))\\nprint(\"MAE:\", mean_absolute_error(y_test, y_pred))\\nprint(\"R² Score:\", r2_score(y_test, y_pred))\\n'"
      ]
     },
     "execution_count": 77,
     "metadata": {},
     "output_type": "execute_result"
    }
   ],
   "source": [
    "''' \n",
    "print(\"Linear Regression Performance:\")\n",
    "print(\"RMSE:\", mean_squared_error(y_test, y_pred, squared=False))\n",
    "print(\"MAE:\", mean_absolute_error(y_test, y_pred))\n",
    "print(\"R² Score:\", r2_score(y_test, y_pred))\n",
    "'''"
   ]
  },
  {
   "cell_type": "code",
   "execution_count": 78,
   "id": "fdbdf491",
   "metadata": {
    "execution": {
     "iopub.execute_input": "2025-07-31T05:30:42.302023Z",
     "iopub.status.busy": "2025-07-31T05:30:42.301711Z",
     "iopub.status.idle": "2025-07-31T05:30:42.310154Z",
     "shell.execute_reply": "2025-07-31T05:30:42.308975Z"
    },
    "papermill": {
     "duration": 0.035382,
     "end_time": "2025-07-31T05:30:42.311808",
     "exception": false,
     "start_time": "2025-07-31T05:30:42.276426",
     "status": "completed"
    },
    "tags": []
   },
   "outputs": [
    {
     "name": "stdout",
     "output_type": "stream",
     "text": [
      "Random Forest Regressor Performance:\n",
      "RMSE: 23.813398006760934\n",
      "MAE: 2.5305656158552816\n",
      "R² Score: 0.9734654694095163\n"
     ]
    }
   ],
   "source": [
    "print(\"Random Forest Regressor Performance:\")\n",
    "print(\"RMSE:\", mean_squared_error(y_test, y_pred, squared=False))\n",
    "print(\"MAE:\", mean_absolute_error(y_test, y_pred))\n",
    "print(\"R² Score:\", r2_score(y_test, y_pred))"
   ]
  },
  {
   "cell_type": "code",
   "execution_count": 79,
   "id": "d36f4466",
   "metadata": {
    "execution": {
     "iopub.execute_input": "2025-07-31T05:30:42.364280Z",
     "iopub.status.busy": "2025-07-31T05:30:42.363958Z",
     "iopub.status.idle": "2025-07-31T05:30:42.445773Z",
     "shell.execute_reply": "2025-07-31T05:30:42.444630Z"
    },
    "papermill": {
     "duration": 0.109205,
     "end_time": "2025-07-31T05:30:42.447961",
     "exception": false,
     "start_time": "2025-07-31T05:30:42.338756",
     "status": "completed"
    },
    "tags": []
   },
   "outputs": [
    {
     "data": {
      "text/plain": [
       "0.9734654694095163"
      ]
     },
     "execution_count": 79,
     "metadata": {},
     "output_type": "execute_result"
    }
   ],
   "source": [
    "model_pipeline.score(X_test, y_test)"
   ]
  },
  {
   "cell_type": "markdown",
   "id": "124f3f1b",
   "metadata": {
    "papermill": {
     "duration": 0.024537,
     "end_time": "2025-07-31T05:30:42.503937",
     "exception": false,
     "start_time": "2025-07-31T05:30:42.479400",
     "status": "completed"
    },
    "tags": []
   },
   "source": [
    "**MODEL SCORE**"
   ]
  },
  {
   "cell_type": "code",
   "execution_count": 80,
   "id": "b6e99a97",
   "metadata": {
    "execution": {
     "iopub.execute_input": "2025-07-31T05:30:42.559992Z",
     "iopub.status.busy": "2025-07-31T05:30:42.559636Z",
     "iopub.status.idle": "2025-07-31T05:30:42.635970Z",
     "shell.execute_reply": "2025-07-31T05:30:42.634683Z"
    },
    "papermill": {
     "duration": 0.108192,
     "end_time": "2025-07-31T05:30:42.637628",
     "exception": false,
     "start_time": "2025-07-31T05:30:42.529436",
     "status": "completed"
    },
    "tags": []
   },
   "outputs": [
    {
     "name": "stdout",
     "output_type": "stream",
     "text": [
      "Model Score: 0.9734654694095163\n"
     ]
    }
   ],
   "source": [
    "print(\"Model Score:\", model_pipeline.score(X_test, y_test))"
   ]
  },
  {
   "cell_type": "markdown",
   "id": "c8d3d551",
   "metadata": {
    "papermill": {
     "duration": 0.02493,
     "end_time": "2025-07-31T05:30:42.687198",
     "exception": false,
     "start_time": "2025-07-31T05:30:42.662268",
     "status": "completed"
    },
    "tags": []
   },
   "source": [
    "**VISUAL REPRESENTATIION OF ACTUAL vs PREDICTED PRICES**"
   ]
  },
  {
   "cell_type": "code",
   "execution_count": 81,
   "id": "fa0d225c",
   "metadata": {
    "execution": {
     "iopub.execute_input": "2025-07-31T05:30:42.740468Z",
     "iopub.status.busy": "2025-07-31T05:30:42.740145Z",
     "iopub.status.idle": "2025-07-31T05:30:42.948483Z",
     "shell.execute_reply": "2025-07-31T05:30:42.947472Z"
    },
    "papermill": {
     "duration": 0.237561,
     "end_time": "2025-07-31T05:30:42.950201",
     "exception": false,
     "start_time": "2025-07-31T05:30:42.712640",
     "status": "completed"
    },
    "tags": []
   },
   "outputs": [
    {
     "data": {
      "image/png": "[encoded data removed]",
      "text/plain": [
       "<Figure size 800x600 with 1 Axes>"
      ]
     },
     "metadata": {},
     "output_type": "display_data"
    }
   ],
   "source": [
    "plt.figure(figsize=(8,6))\n",
    "sns.scatterplot(x=y_test, y=y_pred)\n",
    "plt.xlabel(\"Actual Prices (Lakhs)\")\n",
    "plt.ylabel(\"Predicted Prices (Lakhs)\")\n",
    "plt.title(\"Actual vs Predicted House Prices\")\n",
    "plt.grid(True)\n",
    "plt.show()"
   ]
  },
  {
   "cell_type": "code",
   "execution_count": 82,
   "id": "51075c1e",
   "metadata": {
    "execution": {
     "iopub.execute_input": "2025-07-31T05:30:43.003127Z",
     "iopub.status.busy": "2025-07-31T05:30:43.002771Z",
     "iopub.status.idle": "2025-07-31T05:30:43.215972Z",
     "shell.execute_reply": "2025-07-31T05:30:43.215002Z"
    },
    "papermill": {
     "duration": 0.241822,
     "end_time": "2025-07-31T05:30:43.217752",
     "exception": false,
     "start_time": "2025-07-31T05:30:42.975930",
     "status": "completed"
    },
    "tags": []
   },
   "outputs": [
    {
     "data": {
      "image/png": "[encoded data removed]",
      "text/plain": [
       "<Figure size 800x600 with 1 Axes>"
      ]
     },
     "metadata": {},
     "output_type": "display_data"
    }
   ],
   "source": [
    "plt.figure(figsize=(8,6))\n",
    "sns.scatterplot(x=y_test, y=y_pred)\n",
    "plt.plot([y_test.min(), y_test.max()], [y_test.min(), y_test.max()], 'r--')  # reference line\n",
    "plt.xlabel(\"Actual Prices (Lakhs)\")\n",
    "plt.ylabel(\"Predicted Prices (Lakhs)\")\n",
    "plt.title(\"Actual vs Predicted House Prices\")\n",
    "plt.grid(True)\n",
    "plt.show()\n"
   ]
  },
  {
   "cell_type": "code",
   "execution_count": 83,
   "id": "851f83eb",
   "metadata": {
    "execution": {
     "iopub.execute_input": "2025-07-31T05:30:43.275832Z",
     "iopub.status.busy": "2025-07-31T05:30:43.274736Z",
     "iopub.status.idle": "2025-07-31T05:30:43.486540Z",
     "shell.execute_reply": "2025-07-31T05:30:43.485499Z"
    },
    "papermill": {
     "duration": 0.241635,
     "end_time": "2025-07-31T05:30:43.488499",
     "exception": false,
     "start_time": "2025-07-31T05:30:43.246864",
     "status": "completed"
    },
    "tags": []
   },
   "outputs": [
    {
     "data": {
      "text/plain": [
       "0.9923629681562757"
      ]
     },
     "execution_count": 83,
     "metadata": {},
     "output_type": "execute_result"
    }
   ],
   "source": [
    "model_pipeline.score(X_train, y_train)  "
   ]
  },
  {
   "cell_type": "code",
   "execution_count": 84,
   "id": "a5532831",
   "metadata": {
    "execution": {
     "iopub.execute_input": "2025-07-31T05:30:43.545699Z",
     "iopub.status.busy": "2025-07-31T05:30:43.545342Z",
     "iopub.status.idle": "2025-07-31T05:30:43.823666Z",
     "shell.execute_reply": "2025-07-31T05:30:43.822482Z"
    },
    "papermill": {
     "duration": 0.308306,
     "end_time": "2025-07-31T05:30:43.825306",
     "exception": false,
     "start_time": "2025-07-31T05:30:43.517000",
     "status": "completed"
    },
    "tags": []
   },
   "outputs": [
    {
     "data": {
      "image/png": "[encoded data removed]",
      "text/plain": [
       "<Figure size 1200x600 with 1 Axes>"
      ]
     },
     "metadata": {},
     "output_type": "display_data"
    }
   ],
   "source": [
    "\n",
    "ohe = preprocessor.named_transformers_['cat']\n",
    "cat_features = ohe.get_feature_names_out(categorical_cols)\n",
    "\n",
    "numerical_features = [col for col in X.columns if col not in categorical_cols]\n",
    "all_feature_names = np.concatenate([cat_features, numerical_features])\n",
    "\n",
    "importances = model_pipeline.named_steps['regressor'].feature_importances_\n",
    "\n",
    "feature_importance_df = pd.DataFrame({\n",
    "    'Feature': all_feature_names,\n",
    "    'Importance': importances\n",
    "}).sort_values(by='Importance', ascending=False)\n",
    "\n",
    "plt.figure(figsize=(12, 6))\n",
    "sns.barplot(x='Importance', y='Feature', data=feature_importance_df.head(10))\n",
    "plt.title(\"Top 20 Important Features for Predicting Price\")\n",
    "plt.xlabel(\"Feature Importance Score\")\n",
    "plt.ylabel(\"Features\")\n",
    "plt.tight_layout()\n",
    "plt.grid(True)\n",
    "plt.show()\n"
   ]
  },
  {
   "cell_type": "raw",
   "id": "5ee0351d",
   "metadata": {
    "papermill": {
     "duration": 0.027081,
     "end_time": "2025-07-31T05:30:43.880290",
     "exception": false,
     "start_time": "2025-07-31T05:30:43.853209",
     "status": "completed"
    },
    "tags": []
   },
   "source": [
    "import joblib"
   ]
  },
  {
   "cell_type": "code",
   "execution_count": 85,
   "id": "25fd195c",
   "metadata": {
    "execution": {
     "iopub.execute_input": "2025-07-31T05:30:43.935968Z",
     "iopub.status.busy": "2025-07-31T05:30:43.935589Z",
     "iopub.status.idle": "2025-07-31T05:30:44.094985Z",
     "shell.execute_reply": "2025-07-31T05:30:44.093954Z"
    },
    "papermill": {
     "duration": 0.189891,
     "end_time": "2025-07-31T05:30:44.096854",
     "exception": false,
     "start_time": "2025-07-31T05:30:43.906963",
     "status": "completed"
    },
    "tags": []
   },
   "outputs": [],
   "source": [
    "l_pipeline= joblib.load(\"Bangalore-project.joblib\")"
   ]
  },
  {
   "cell_type": "code",
   "execution_count": 86,
   "id": "db55f991",
   "metadata": {
    "execution": {
     "iopub.execute_input": "2025-07-31T05:30:44.153245Z",
     "iopub.status.busy": "2025-07-31T05:30:44.152352Z",
     "iopub.status.idle": "2025-07-31T05:30:44.169956Z",
     "shell.execute_reply": "2025-07-31T05:30:44.168889Z"
    },
    "papermill": {
     "duration": 0.047399,
     "end_time": "2025-07-31T05:30:44.171576",
     "exception": false,
     "start_time": "2025-07-31T05:30:44.124177",
     "status": "completed"
    },
    "tags": []
   },
   "outputs": [
    {
     "name": "stdout",
     "output_type": "stream",
     "text": [
      "[68.154]\n"
     ]
    }
   ],
   "source": [
    "print(l_pipeline.predict(X_train.iloc[[0]]))"
   ]
  },
  {
   "cell_type": "code",
   "execution_count": 87,
   "id": "f6bc665b",
   "metadata": {
    "execution": {
     "iopub.execute_input": "2025-07-31T05:30:44.229667Z",
     "iopub.status.busy": "2025-07-31T05:30:44.229274Z",
     "iopub.status.idle": "2025-07-31T05:30:44.248415Z",
     "shell.execute_reply": "2025-07-31T05:30:44.247347Z"
    },
    "papermill": {
     "duration": 0.049875,
     "end_time": "2025-07-31T05:30:44.250307",
     "exception": false,
     "start_time": "2025-07-31T05:30:44.200432",
     "status": "completed"
    },
    "tags": []
   },
   "outputs": [
    {
     "name": "stdout",
     "output_type": "stream",
     "text": [
      "Actual Price: 68.0\n",
      "Predicted Price: 68.154\n"
     ]
    }
   ],
   "source": [
    "print(\"Actual Price:\", y_train.iloc[0])\n",
    "print(\"Predicted Price:\", l_pipeline.predict(X_train.iloc[[0]])[0])"
   ]
  },
  {
   "cell_type": "code",
   "execution_count": 88,
   "id": "e5b3ebd6",
   "metadata": {
    "execution": {
     "iopub.execute_input": "2025-07-31T05:30:44.306110Z",
     "iopub.status.busy": "2025-07-31T05:30:44.305792Z",
     "iopub.status.idle": "2025-07-31T05:30:44.359630Z",
     "shell.execute_reply": "2025-07-31T05:30:44.358320Z"
    },
    "papermill": {
     "duration": 0.083625,
     "end_time": "2025-07-31T05:30:44.361334",
     "exception": false,
     "start_time": "2025-07-31T05:30:44.277709",
     "status": "completed"
    },
    "tags": []
   },
   "outputs": [
    {
     "name": "stdout",
     "output_type": "stream",
     "text": [
      "Sample 1: Actual: ₹68.0 Lakhs | Predicted: ₹68.15 Lakhs | Error: ₹0.15\n",
      "Sample 2: Actual: ₹108.0 Lakhs | Predicted: ₹108.02 Lakhs | Error: ₹0.02\n",
      "Sample 3: Actual: ₹100.0 Lakhs | Predicted: ₹99.93 Lakhs | Error: ₹0.07\n",
      "Sample 4: Actual: ₹198.0 Lakhs | Predicted: ₹197.79 Lakhs | Error: ₹0.21\n",
      "Sample 5: Actual: ₹372.0 Lakhs | Predicted: ₹373.41 Lakhs | Error: ₹1.41\n"
     ]
    }
   ],
   "source": [
    "for i in range(5):\n",
    "    actual = y_train.iloc[i]\n",
    "    predicted = l_pipeline.predict(X_train.iloc[[i]])[0]\n",
    "    error = abs(actual - predicted)\n",
    "    print(f\"Sample {i+1}: Actual: ₹{actual} Lakhs | Predicted: ₹{predicted:.2f} Lakhs | Error: ₹{error:.2f}\")\n"
   ]
  },
  {
   "cell_type": "code",
   "execution_count": 89,
   "id": "1c97119e",
   "metadata": {
    "execution": {
     "iopub.execute_input": "2025-07-31T05:30:44.418035Z",
     "iopub.status.busy": "2025-07-31T05:30:44.417700Z",
     "iopub.status.idle": "2025-07-31T05:32:33.004052Z",
     "shell.execute_reply": "2025-07-31T05:32:33.003005Z"
    },
    "papermill": {
     "duration": 108.644592,
     "end_time": "2025-07-31T05:32:33.033801",
     "exception": false,
     "start_time": "2025-07-31T05:30:44.389209",
     "status": "completed"
    },
    "tags": []
   },
   "outputs": [
    {
     "name": "stdout",
     "output_type": "stream",
     "text": [
      "Cross-validated R²: 0.9534233493277628\n"
     ]
    }
   ],
   "source": [
    "from sklearn.model_selection import cross_val_score\n",
    "scores = cross_val_score(model_pipeline, X, y, cv=5, scoring='r2')\n",
    "print(\"Cross-validated R²:\", scores.mean())\n"
   ]
  },
  {
   "cell_type": "code",
   "execution_count": null,
   "id": "56cf9305",
   "metadata": {
    "papermill": {
     "duration": 0.02681,
     "end_time": "2025-07-31T05:32:33.087809",
     "exception": false,
     "start_time": "2025-07-31T05:32:33.060999",
     "status": "completed"
    },
    "tags": []
   },
   "outputs": [],
   "source": []
  }
 ],
 "metadata": {
  "kaggle": {
   "accelerator": "none",
   "dataSources": [
    {
     "datasetId": 1688599,
     "sourceId": 2767101,
     "sourceType": "datasetVersion"
    }
   ],
   "dockerImageVersionId": 31089,
   "isGpuEnabled": false,
   "isInternetEnabled": true,
   "language": "python",
   "sourceType": "notebook"
  },
  "kernelspec": {
   "display_name": "Python 3",
   "language": "python",
   "name": "python3"
  },
  "language_info": {
   "codemirror_mode": {
    "name": "ipython",
    "version": 3
   },
   "file_extension": ".py",
   "mimetype": "text/x-python",
   "name": "python",
   "nbconvert_exporter": "python",
   "pygments_lexer": "ipython3",
   "version": "3.12.2"
  },
  "papermill": {
   "default_parameters": {},
   "duration": 152.618332,
   "end_time": "2025-07-31T05:32:34.047837",
   "environment_variables": {},
   "exception": null,
   "input_path": "__notebook__.ipynb",
   "output_path": "__notebook__.ipynb",
   "parameters": {},
   "start_time": "2025-07-31T05:30:01.429505",
   "version": "2.6.0"
  }
 },
 "nbformat": 4,
 "nbformat_minor": 5
}
